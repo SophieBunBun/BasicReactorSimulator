{
 "cells": [
  {
   "cell_type": "markdown",
   "id": "8feddc8f",
   "metadata": {},
   "source": [
    "# Simulator report\n",
    "\n",
    "Made by:\n",
    "></p>\n",
    ">Alexandre Santos nº 103119 </p>\n",
    ">Gustavo Caldeira nº 103336 </p>\n",
    ">Tomás Gonçalves nº 103352 </p>\n",
    "\n",
    "Teachers: </p>\n",
    "></p>\n",
    ">Yasser Omar (yasser.omar@tecnico.ulisboa.pt) </p>\n",
    ">Gonçalo Lobato Baptista Teixeira (goncalo.l.b.teixeira@tecnico.ulisboa.pt) </p>\n",
    ">José Diogo Da Costa Jesus (jose.costa.jesus@tecnico.ulisboa.pt) </p>\n",
    "\n",
    "\n",
    "This is the report on our simulator made in python as per the instructions and objectives given by the teachers.\n",
    "In it we will cover all of our modules and classes, explaining how they work and what each function within them does.\n",
    "\n",
    "## Objectives\n",
    "\n",
    "With this project we aimed to develop a simulator using the Stochastic Discrete Simulation model. The simulator attempts to simulate reactions within a space of a set volume. The particles in this space are labeled \"A\", \"B\" and \"C\", and they react together to either form C or to decompose C into its building blocks (A and B).\n",
    "\n",
    "To make this work we needed:\n",
    "\n",
    "1. A way to easily store and access the number of particles in our system\n",
    "2. A space where the simulation takes place\n",
    "3. 4 Events - A global move event, a reaction event, an insertion event and an extraction event\n",
    "4. A CPE, chain of pending events, or CAP (Portuguese translation), that could manipulate events and store them\n",
    "5. Data graphing\n",
    "\n",
    "With this in mind we developed:\n",
    "\n",
    "1. The Class molList\n",
    "2. The Class cube\n",
    "3. The Classes Cap and event\n",
    "4. The main simulator module\n",
    "\n",
    "Additionally, for fun, we developed a GUI module that can be run directly from double clicking a run file.\n",
    "\n",
    "Starting with the call molList we will explain all of these and how they interact:"
   ]
  },
  {
   "cell_type": "markdown",
   "id": "60113ffa",
   "metadata": {},
   "source": [
    "## Class molList (stored in the module \"mollist\")\n",
    "\n",
    "We wanted an easy way to store and access the number of particles in our system, so we developed a new type of data we called mollist.\n",
    "\n",
    "A mollist is a 2d list composed of lists that contain an object, and an integer with its count.\n",
    "\n",
    "> An example of a mollist would be: </p>\n",
    "> </p>\n",
    "> [[\"A\", 100], [\"B\", 150], [\"Potatoes\", 99999]]\n",
    "\n",
    "This way we could store any object we want, along with its count, and be able to access it easily.\n",
    "\n",
    "With this in mind, we developed the mollist class along with its functions for manipulation:\n",
    "\n",
    "### **1.** Class initiallization"
   ]
  },
  {
   "cell_type": "code",
   "execution_count": 1,
   "id": "a16e4c5f",
   "metadata": {},
   "outputs": [],
   "source": [
    "class molList:\n",
    "\n",
    "    def __init__(self):\n",
    "        self.list = []"
   ]
  },
  {
   "cell_type": "markdown",
   "id": "9f828fe4",
   "metadata": {},
   "source": [
    "The initialization class takes in no argument and creates an empty list under the object's self.list.\n",
    "\n",
    "### **2.** Class functions\n",
    "\n",
    "Any mention of obj as a function argument is refering to a cell object, or in other words, \"A\", \"B\" or \"C\". A cell object can be any type of data, but for this project we are restricting ourselves to using only the strings \"A\", \"B\" or \"C\". (This is further explained in the cube class)\n",
    "\n",
    "Any mention of count as a function argument is an int.\n",
    "\n",
    "**2.1** self.mollistLen()"
   ]
  },
  {
   "cell_type": "code",
   "execution_count": 2,
   "id": "f5b27640",
   "metadata": {},
   "outputs": [],
   "source": [
    "def mollistLen(self):\n",
    "    return len(self.list)"
   ]
  },
  {
   "cell_type": "markdown",
   "id": "6da5ab93",
   "metadata": {},
   "source": [
    "The function mollistLen() returns the length of the mollist as an int.\n",
    "\n",
    "**2.2** self.index(obj)"
   ]
  },
  {
   "cell_type": "code",
   "execution_count": 3,
   "id": "71ec227f",
   "metadata": {},
   "outputs": [],
   "source": [
    "def index(self, obj):\n",
    "    return -1 + sum(x + 1 for x in range(self.mollistLen()) if self.list[x][0] == obj)"
   ]
  },
  {
   "cell_type": "markdown",
   "id": "b19c23c3",
   "metadata": {},
   "source": [
    "The function index(obj) returns de position of the object (obj) within the list as an int.\n",
    "\n",
    "**2.3** self.getCount(obj)"
   ]
  },
  {
   "cell_type": "code",
   "execution_count": 4,
   "id": "7a9c32cc",
   "metadata": {},
   "outputs": [],
   "source": [
    "def getCount(self, obj):\n",
    "    return self.list[self.index(obj)][1] if self.index(obj) > -1 else 0"
   ]
  },
  {
   "cell_type": "markdown",
   "id": "5ef3d72a",
   "metadata": {},
   "source": [
    "The function getCount(obj) returns de count of the object (obj) inside the list as an int.\n",
    "\n",
    "**2.4** self.getObjects()"
   ]
  },
  {
   "cell_type": "code",
   "execution_count": 5,
   "id": "c6424db7",
   "metadata": {},
   "outputs": [],
   "source": [
    "def getObjects(self):\n",
    "    return [y[0] for y in self.list]"
   ]
  },
  {
   "cell_type": "markdown",
   "id": "b4b7826e",
   "metadata": {},
   "source": [
    "The function getObjects() returns a list of all the objects (obj) inside the list.\n",
    "\n",
    "**2.5** self.insert(obj , count)"
   ]
  },
  {
   "cell_type": "code",
   "execution_count": 6,
   "id": "218d56bd",
   "metadata": {},
   "outputs": [],
   "source": [
    "def insert(self, obj, count):\n",
    "    self.list = [y for y in self.list if y[0] != obj] + [[obj, self.getCount(obj) + count]] if self.index(obj) > -1 else self.list + [[obj, count]]"
   ]
  },
  {
   "cell_type": "markdown",
   "id": "b179adc0",
   "metadata": {},
   "source": [
    "The function insert(obj, count) inserts the amount (count) of the object (obj) inputed into the list. If the list has an instance of the object, its count will increase by the count inputed, else if the object is not inside the list, a new instance of the object will be added in the mollist along with its count.\n",
    "\n",
    "**2.6** self.remove(obj, count)"
   ]
  },
  {
   "cell_type": "code",
   "execution_count": 7,
   "id": "5835ff62",
   "metadata": {},
   "outputs": [],
   "source": [
    "def remove(self, obj, count):\n",
    "    self.list = [y for y in self.list if y[0] != obj] + [[obj, self.getCount(obj) - count]] if self.index(obj) > -1 else [y for y in self.list if y[0] != obj]"
   ]
  },
  {
   "cell_type": "markdown",
   "id": "723df52c",
   "metadata": {},
   "source": [
    "The function remove(obj, count) removes the amount (count) of the object (obj) inputed from the list. If the list has an instance of the object, its count will decrease by the count inputed, and can go into the negatives. If there is no instance of the object in the list, nothing will happen."
   ]
  },
  {
   "cell_type": "markdown",
   "id": "c2d293ac",
   "metadata": {},
   "source": [
    "## Class cube (stored in the module \"cube\")\n",
    "\n",
    "To run our simulation we needed a space. As per the instructions given for our project we created a cube made up of cells, where L is the amount of cells in a straight line in one of the axis, and L^3 is the total amount of cells that make up the cube.\n",
    "\n",
    "To define our cube programatically we decided to use a 3d list to store our data, in other words, a list of lists of lists of lists, where the deepest set of lists within the main list are what we call our cells.\n",
    "\n",
    "> An example of a L = 2 cube would be: </p>\n",
    "> </p>\n",
    "> [ [ [ [], [] ] \n",
    ">    ,[ [], [] ] ] \n",
    ">  ,[ [ [], [] ] \n",
    ">    ,[ [], [] ] ] ] \n",
    "\n",
    "> An example of a cell would be: </p>\n",
    "> </p>\n",
    "> [ \"A\", \"B\", \"B\" ] </p>\n",
    "> </p>\n",
    "> Where each object in the cell can be any type of data (int, string, float, etc..). For this project we are only using the objects \"A\", \"B\" and \"C\".\n",
    "\n",
    "By defining the cube this way, we are able to easily access any cell within the cube using coordinates:\n",
    "\n",
    "> Cube[x][y][z] - Where Cube[1][0][3] would access the cell in the position x = 1, y = 0, z = 3, inside the cube.\n",
    "\n",
    "With this concept in mind we created a class to be able to implement this new data type and easily manipulate it:\n",
    "\n",
    "### **1.** Class initialization  "
   ]
  },
  {
   "cell_type": "code",
   "execution_count": 8,
   "id": "2adae4b4",
   "metadata": {},
   "outputs": [],
   "source": [
    "class cube:\n",
    "    \n",
    "    def __init__(self, size):\n",
    "        self.space = [[[[] for z in range(size)] for y in range(size)] for x in range(size)]          "
   ]
  },
  {
   "cell_type": "markdown",
   "id": "b64f13df",
   "metadata": {},
   "source": [
    "The class initialization takes a parameter \"size\", which dictates the length of our cube list, or in other words, the length of the cube's edge. Therefor, the total volume of the cube would be size ^ 3, where a size 8 cube would have a volume of 512, or 512 cells.\n",
    "\n",
    "The generated 3d list that respresents the cube is stored under the object's self.space.\n",
    "\n",
    "### **2.** Class functions </p>\n",
    "\n",
    "Like we previously mentioned, a cell object can be any type of data, but for this project we are restricting ourselves to using only the strings \"A\", \"B\" or \"C\". Any mention of obj as a function argument is refering to a cell object, or in other words, \"A\", \"B\" or \"C\". </p>\n",
    " </p>\n",
    "All of the arguments coords and vector listed as function arguments need to be filled out with lists of integers that represent a set of coordinates, for example [1, 2, 3], which represents the point x = 1, y = 2, z = 3. </p>\n",
    "\n",
    "**2.1** self.size()"
   ]
  },
  {
   "cell_type": "code",
   "execution_count": 9,
   "id": "ddb86454",
   "metadata": {},
   "outputs": [],
   "source": [
    "def size(self):\n",
    "    return len(self.space)"
   ]
  },
  {
   "cell_type": "markdown",
   "id": "0c702c02",
   "metadata": {},
   "source": [
    "The function self.size() returns the cube size, L. Or in other words the length of the cube's edge, or the cubic root of the cube volume.\n",
    "\n",
    "**2.2** self.insertObj(obj, coords)"
   ]
  },
  {
   "cell_type": "code",
   "execution_count": 10,
   "id": "6cf24575",
   "metadata": {},
   "outputs": [],
   "source": [
    "def insertObj(self, obj, coords):\n",
    "    self.space[coords[0]][coords[1]][coords[2]].append(obj)"
   ]
  },
  {
   "cell_type": "markdown",
   "id": "417175e3",
   "metadata": {},
   "source": [
    "The function insertObj(obj, coords) inserts an object (obj) into a cell at the inputed coordinates (coords).\n",
    "\n",
    "**2.3** self.removeObj(obj, coords):"
   ]
  },
  {
   "cell_type": "code",
   "execution_count": 11,
   "id": "b3470437",
   "metadata": {},
   "outputs": [],
   "source": [
    "def removeObj(self, obj, coords):\n",
    "    self.space[coords[0]][coords[1]][coords[2]].remove(obj)"
   ]
  },
  {
   "cell_type": "markdown",
   "id": "ca74a2db",
   "metadata": {},
   "source": [
    "The function removeObj(obj, coords) removes an object (obj) in the cell at the inputed coordinates (coords). If the object does not exist within the cell, nothing will be changed.\n",
    "    \n",
    "**2.4** self.moveObj(obj, coords, vector)"
   ]
  },
  {
   "cell_type": "code",
   "execution_count": 12,
   "id": "54f53197",
   "metadata": {},
   "outputs": [],
   "source": [
    "def moveObj(self, obj, coords, vector):\n",
    "        \n",
    "        if self.space[coords[0]][coords[1]][coords[2]].count(obj) > 0:\n",
    "            \n",
    "            #Calculate de elastic repulsion from the object hitting the wall\n",
    "            vector = [(vector[i] if 0 <= int(coords[i] + vector[i]) < self.size() else max(min(coords[i] + vector[i], self.size()  - 1),0) - coords[i] - ((coords[i] + vector[i]) % (self.size()  - 1))) for i in range(3)]\n",
    "            \n",
    "            #Calculating the final coordinates\n",
    "            finalCoords = [int(coords[i] + vector[i]) for i in range(3)]\n",
    "            \n",
    "            #Moving the object\n",
    "            self.insertObj(obj, finalCoords)\n",
    "            self.removeObj(obj, coords)"
   ]
  },
  {
   "cell_type": "markdown",
   "id": "032623dc",
   "metadata": {},
   "source": [
    "The function moveObj(obj, coords, vector) moves an object (obj) that is inside the cell at the inputed coordinates (coords) by the vector (vector) inputed. If the object does not exist within the cell, nothing will be changed. Aditionally, if the final position of the object after being moved by the vector is outside the bounds of the cube, a new vector is calculated that simulated an elastic bounce off the wall of the cube.\n",
    "\n",
    "**2.5** self.getCellsWithObj()"
   ]
  },
  {
   "cell_type": "code",
   "execution_count": 13,
   "id": "10826ef1",
   "metadata": {},
   "outputs": [],
   "source": [
    "def getCellsWithObj(self):\n",
    "    a = []\n",
    "    for x, y, z in it.product(range(self.size()), range(self.size()), range(self.size())):\n",
    "        if cube[x][y][z] != []:\n",
    "            a.append([x,y,z])\n",
    "    return a"
   ]
  },
  {
   "cell_type": "markdown",
   "id": "d9e81147",
   "metadata": {},
   "source": [
    "The function getCellsWithObj() returns a list that contains all of the coordinates (coords) of cells that contain one or more objects.\n",
    "\n",
    "**2.6** self.getObjListInCell(coords)"
   ]
  },
  {
   "cell_type": "code",
   "execution_count": 14,
   "id": "80fb43e4",
   "metadata": {},
   "outputs": [],
   "source": [
    "def getObjListInCell(self, coords):\n",
    "    return self.space[coords[0]][coords[1]][coords[2]]"
   ]
  },
  {
   "cell_type": "markdown",
   "id": "a53a2bc9",
   "metadata": {},
   "source": [
    "The function getObjListInCell(coords) returns a list of objects (obj) that contains all of the objects inside the cell at the inputed coordinates (coords)\n",
    "\n",
    "**2.7** self.getObjectTotals()"
   ]
  },
  {
   "cell_type": "code",
   "execution_count": 15,
   "id": "12152aa1",
   "metadata": {},
   "outputs": [],
   "source": [
    "#Uses the class mollist\n",
    "#import mollist as ml\n",
    "\n",
    "def getObjectTotals(self):\n",
    "        \n",
    "        #Create new mollist\n",
    "        mollist = ml.molList()\n",
    "        \n",
    "        for coords in self.getCellsWithObj():\n",
    "            \n",
    "            cell = self.getObjListInCell(coords)\n",
    "            \n",
    "            while cell != []:\n",
    "                \n",
    "                mollist.insert(cell[0], cell.count(cell[0]))\n",
    "                cell = [y for y in cell if y != cell[0]]\n",
    "                \n",
    "        return mollist"
   ]
  },
  {
   "cell_type": "markdown",
   "id": "d40bc3a0",
   "metadata": {},
   "source": [
    "The function getObjectTotals() returns an object of the class mollist that contains all of the objects contained within the cube along with their total quantity.\n"
   ]
  },
  {
   "cell_type": "markdown",
   "id": "e6961ff9",
   "metadata": {},
   "source": [
    "## Class simulation (In module \"events\")\n",
    "\n",
    "With our \"toobox\" defined (lowest layer modules), we decided to move onto defining the events of our project.\n",
    "\n",
    "To do this, we created a new module named \"events\" that contains a new class called simulation and utilizes the previously defined classes.\n",
    "\n",
    "### 1. Class initialization"
   ]
  },
  {
   "cell_type": "code",
   "execution_count": 16,
   "id": "6048e47c",
   "metadata": {},
   "outputs": [],
   "source": [
    "class simulation:\n",
    "    \n",
    "    #objList comes in as a molList class\n",
    "    def __init__(self, objList, size):\n",
    "        \n",
    "        #Current object count in system (gets updated after every time the number of particles in system changes)\n",
    "        self.totalMolCount = objList\n",
    "        \n",
    "        #Total retrieved objects\n",
    "        self.totalMolRetrieved = ml.molList()\n",
    "        \n",
    "        #Total consumed objects\n",
    "        self.totalMolConsumed = objList\n",
    "        \n",
    "        #3d simulation space\n",
    "        self.simSpace = cb.cube(size)\n",
    "        \n",
    "        #Insert objects into cube at random\n",
    "        for obj in self.totalMolCount.getObjects():\n",
    "            for i in range(self.totalMolCount.getCount(obj)):\n",
    "                \n",
    "                #Generate random coordinates\n",
    "                randCoords = [(random.randint(0, self.simSpace.size() - 1)) for i in range(3)]\n",
    "                self.simSpace.insertObj(obj, randCoords)"
   ]
  },
  {
   "cell_type": "markdown",
   "id": "ee8dcaaf",
   "metadata": {},
   "source": [
    "The class initialization takes in the parameters objList and size. objList is a molList class that contains the starting amounts of all objects used in the simulation, while size defines the size of our simulation cube.\n",
    "\n",
    "In the initialization we create four diferent proprieties under ou simulation class:\n",
    "\n",
    ">self.totalMolCount - A molList class that stores the current amount of each object within the cube </p>\n",
    "> </p>\n",
    ">self.totalMolRetrieved - A molList class that stores how much of each object has been extracted in total </p>\n",
    "> </p>\n",
    ">self.totalMolConsumed - A molList class that stores how much of each object has been consumed in total </p>\n",
    "> </p>\n",
    ">self.simSpoace - A cube class where everything takes place\n",
    "\n",
    "After defining these proprieties we insert the starting amount of each object into the cube by generating random coordinates for each object and inserting it into that position.\n",
    "\n",
    "### 2. Class functions\n",
    "\n",
    "**2.1** self.globalMoveEvent(moveMaxDistance):"
   ]
  },
  {
   "cell_type": "code",
   "execution_count": 17,
   "id": "73590c67",
   "metadata": {},
   "outputs": [],
   "source": [
    "def globalMoveEvent(self, moveMaxDistance):\n",
    "        \n",
    "        #Choose coordinates in cube where there are objects, run for every object within cell\n",
    "        for coords in self.simSpace.getCellsWithObj():\n",
    "            \n",
    "            for obj in self.simSpace.getObjListInCell(coords):\n",
    "            \n",
    "                #Generate movement vector\n",
    "                randVector = [random.randint(-moveMaxDistance, moveMaxDistance) for i in range(3)]\n",
    "                \n",
    "                #Move object to coordinates\n",
    "                self.simSpace.moveObj(obj, coords, randVector) "
   ]
  },
  {
   "cell_type": "markdown",
   "id": "614cc5bc",
   "metadata": {},
   "source": [
    "This function takes in a single argument, moveMaxDistance, that defines the max amount of cells moved in each axis by an object, where:\n",
    "\n",
    ">for moveMaxDistance = 2: </p>\n",
    "> </p>\n",
    ">-2 <= x <= 2, -2 <= y <= 2, and so on...\n",
    "\n",
    "The function works by first getting a list of coordinates where there are objects contained, and then running a for loop for each object within that cell. Every time the loop runs, a random vector is contained and then the object is moved with that vector.\n",
    "\n",
    "**2.2** self.reactionEvent():"
   ]
  },
  {
   "cell_type": "code",
   "execution_count": 18,
   "id": "07939f78",
   "metadata": {},
   "outputs": [],
   "source": [
    "def reactionEvent(self):\n",
    "        \n",
    "        #Choose coordinates in cube where there are objects\n",
    "        for coords in self.simSpace.getCellsWithObj():\n",
    "            \n",
    "            #Getting a list of every object in the cell\n",
    "            objList = self.simSpace.getObjListInCell(coords)\n",
    "\n",
    "            #Select reaction to perform\n",
    "            #Reaction 1: A + B -> C\n",
    "            while (objList.count(\"A\")) > 0 and (objList.count(\"B\")) > 0:\n",
    "                \n",
    "                #Do reaction\n",
    "                self.simSpace.removeObj(\"A\", coords)\n",
    "                self.simSpace.removeObj(\"B\", coords)\n",
    "                self.simSpace.insertObj(\"C\", coords)\n",
    "                \n",
    "            #Reaction 2 & 3: C + A -> 2A + B or C + B -> A + 2B\n",
    "            while (objList.count(\"C\")) > 0 and ((objList.count(\"A\")) > 0 or objList.count(\"B\") > 0):\n",
    "                \n",
    "                self.simSpace.removeObj(\"C\", coords)\n",
    "                self.simSpace.insertObj(\"A\", coords)\n",
    "                self.simSpace.insertObj(\"B\", coords)  \n",
    "                \n",
    "            #Reaction 4: 2C -> 2A + 2B\n",
    "            while (objList.count(\"C\")) > 1:\n",
    "                \n",
    "                for i in range(2):\n",
    "                    self.simSpace.removeObj(\"C\", coords)\n",
    "                    self.simSpace.insertObj(\"A\", coords)\n",
    "                    self.simSpace.insertObj(\"B\", coords)\n",
    "                    \n",
    "        #Update molecule lists\n",
    "        self.totalMolCount = self.simSpace.getObjectTotals()"
   ]
  },
  {
   "cell_type": "markdown",
   "id": "340d4faa",
   "metadata": {},
   "source": [
    "This function first gets a list of coordinates where objects are contained and gets a list of objects within that cell. Afterwards, it runs while loops for each reaction where it does the reaction as long as the conditions for it remain. The reactions are listed bellow:\n",
    "> </p>\n",
    ">A + B » C </p>\n",
    ">A + C » 2A + B </p>\n",
    ">B + C » A + 2B </p>\n",
    ">2C » 2A + 2B\n",
    "\n",
    "At the end, the function simply updates the simulation class' total amount of objects within the reaction at that time.\n",
    "\n",
    "**2.3** self.insertEvent(obj, count):"
   ]
  },
  {
   "cell_type": "code",
   "execution_count": 19,
   "id": "dfd430c6",
   "metadata": {},
   "outputs": [],
   "source": [
    " def insertEvent(self, obj, count):\n",
    "        \n",
    "        self.totalMolCount.insert(obj, count)\n",
    "        self.totalMolConsumed.insert(obj, count)\n",
    "        \n",
    "        for i in range(count):\n",
    "            \n",
    "            #Generate random coordinates within 1/4 of the space\n",
    "            randCoords = [(random.randint(0, round((self.simSpace.size() - 1) / 4))) for i in range(3)]\n",
    "        \n",
    "            if obj == \"A\":\n",
    "    \n",
    "                randCoords[2] += round(((self.simSpace.size() - 1) * 3) / 4)\n",
    "                    \n",
    "            elif obj == \"B\":\n",
    "                \n",
    "                for x in range(3):\n",
    "                    \n",
    "                    randCoords[x] += round(((self.simSpace.size() - 1) * 3) / 4)\n",
    "                \n",
    "            self.simSpace.insertObj(obj, randCoords)"
   ]
  },
  {
   "cell_type": "markdown",
   "id": "a7ac3ac3",
   "metadata": {},
   "source": [
    "This function takes in two arguments: obj and count. obj is the object that we want to insert into the reactor, count is the amount of that object that we want inputed.\n",
    "\n",
    "First the function updates de current total of the object in the reactor and the total count of the object consumed. Then that amount is inserted into the cube by, first generating random coordinates within 1/4 of the cube size, and then by adjusting the position of that area onto the correct object area. Finally, the object is inserted into the cube at those coordinates.\n",
    "\n",
    "**2.4** self.removeEvent(obj, count):"
   ]
  },
  {
   "cell_type": "code",
   "execution_count": 20,
   "id": "45392472",
   "metadata": {},
   "outputs": [],
   "source": [
    "def removeEvent(self, obj):\n",
    "        \n",
    "        #Get list of coordinates within 0 <= x, y, z <= L/4 that contains object\n",
    "        for coords in [y for y in self.simSpace.getCellsWithObj() if ((y[0] <= round((self.simSpace.size() - 1) / 4)) and (y[1] <= round((self.simSpace.size() - 1) / 4)) and (y[2] <= round((self.simSpace.size() - 1) / 4))) and (self.simSpace.getObjListInCell(y).count(obj) > 0)]:\n",
    "            \n",
    "            for i in self.simSpace.getObjListInCell(coords):   \n",
    "            \n",
    "                if i == obj:\n",
    "                    \n",
    "                    #Remove object from coordinate and add 1 to totalMol for that obj\n",
    "                    self.simSpace.removeObj(obj, coords)\n",
    "                    self.totalMolRetrieved.insert(obj, 1)\n",
    "                    \n",
    "                    self.totalMolCount.remove(obj, 1)"
   ]
  },
  {
   "cell_type": "markdown",
   "id": "798bdf33",
   "metadata": {},
   "source": [
    "This function removes all instances of the desired object from an area that is 1/4 of the cube size in every axis, so size/4 ^ 3. This area is positioned at the coordinates [0, 0, 0].\n",
    "\n",
    "It first gets all the coordinates within thisw space where there are objects present and then removes all instances of the desired object (obj) from that space, updating the total obj count in the cube and the total obj count removed from the cube.\n"
   ]
  },
  {
   "cell_type": "markdown",
   "id": "dbc956d4",
   "metadata": {},
   "source": [
    "## Cap class & event class (cap module)\n",
    "\n",
    "For our simulation, we used the Stochastic Discrete Simulation model, which meaned we needed a CPE, chain of pending events, or CAP (Portuguese translation).\n",
    "\n",
    "Our teachers provided us with CAP and event modules for our project, but since we wanted to make everything in classes (its more clean and easy to use classes), we decided to rewrite these modules using classes into a single module.\n",
    "\n",
    "We will go over the event class first.\n",
    "\n",
    "The event class is an object with two proprieties: the event kind and the event time.\n",
    "\n",
    "### 1. Event class initialization"
   ]
  },
  {
   "cell_type": "code",
   "execution_count": 21,
   "id": "b167f593",
   "metadata": {},
   "outputs": [],
   "source": [
    "class event:\n",
    "    \n",
    "    def __init__(self, t, k):\n",
    "        self.time = t\n",
    "        self.kind = k"
   ]
  },
  {
   "cell_type": "markdown",
   "id": "c3ce42b2",
   "metadata": {},
   "source": [
    "The class initialization takes in two arguments, t and k, which stand for time and kind. These are stored under the class's self.time and self.kind.\n",
    "\n",
    "The other class is the CAP class which essentially stores all of our event classes.\n",
    "\n",
    "### 2. Cap class initialization"
   ]
  },
  {
   "cell_type": "code",
   "execution_count": 22,
   "id": "7f4340f4",
   "metadata": {},
   "outputs": [],
   "source": [
    "class cap:\n",
    "    \n",
    "    def __init__(self):\n",
    "        self.cap = []"
   ]
  },
  {
   "cell_type": "markdown",
   "id": "39e07dab",
   "metadata": {},
   "source": [
    "The cap class initialization simply stores a new empty list under the class's self.cap atribute.\n",
    "\n",
    "### 3. Cap class functions\n",
    "\n",
    "**3.1** self.addEvent(e)"
   ]
  },
  {
   "cell_type": "code",
   "execution_count": 23,
   "id": "93034f56",
   "metadata": {},
   "outputs": [],
   "source": [
    "def addEvent(self, e):\n",
    "    self.cap = [e1 for e1 in self.cap if e1.time < e.time] + [e] + [e1 for e1 in self.cap if e1.time > e.time]"
   ]
  },
  {
   "cell_type": "markdown",
   "id": "b57d4a5a",
   "metadata": {},
   "source": [
    "The addEvent function takes in a single argument that comes in in the form of an event class. It adds the event to the CAP at the correct position, where its stored after the event that happens sooner than itself and before the events that happen after itself. This is done by reading the event times.\n",
    "\n",
    "**3.2** self.delCurrentEvent()"
   ]
  },
  {
   "cell_type": "code",
   "execution_count": 24,
   "id": "81a2d799",
   "metadata": {},
   "outputs": [],
   "source": [
    "def delCurrentEvent(self):\n",
    "    self.cap = self.cap[1:] if len(self.cap) > 0 else []"
   ]
  },
  {
   "cell_type": "markdown",
   "id": "c455929a",
   "metadata": {},
   "source": [
    "This function removes the current event from the CAP. If the CAP is empty it changed nothing.\n",
    "\n",
    "**3.3** self.currentEvent()"
   ]
  },
  {
   "cell_type": "code",
   "execution_count": 25,
   "id": "f4514e21",
   "metadata": {},
   "outputs": [],
   "source": [
    "def currentEvent(self):\n",
    "    return self.cap[0]"
   ]
  },
  {
   "cell_type": "markdown",
   "id": "4a7de656",
   "metadata": {},
   "source": [
    "This function simply returns the current event in the cap (the most recent event)"
   ]
  },
  {
   "cell_type": "markdown",
   "id": "575b7b3d",
   "metadata": {},
   "source": [
    "## Simulation module\n",
    "\n",
    "This is where all of our modules come together to run our simulation.\n",
    "The module has three functions, we will go over the simplest one first.\n",
    "\n",
    "### 1. randomxp(m)"
   ]
  },
  {
   "cell_type": "code",
   "execution_count": 26,
   "id": "9f7dea6c",
   "metadata": {},
   "outputs": [],
   "source": [
    "from random import random\n",
    "from math import e\n",
    "\n",
    "def randomxp(m):\n",
    "    t = random()\n",
    "    return 1 - e**( - t / m )"
   ]
  },
  {
   "cell_type": "markdown",
   "id": "ee796608",
   "metadata": {},
   "source": [
    "This function takes in a float m and returns a pseudo-random number for our event times.\n",
    "\n",
    "Now onto the main function, simular(), which runs the simulation:\n",
    "\n",
    "### 2. simular( optional args )"
   ]
  },
  {
   "cell_type": "code",
   "execution_count": 27,
   "id": "b4cf0eb1",
   "metadata": {},
   "outputs": [],
   "source": [
    "#These are in comments as to not create errors in jupyter notbook\n",
    "#import cap as cp\n",
    "#import mollist as ml\n",
    "#import events as ev\n",
    "\n",
    "def simular(L = 8 , Na = 120 , Nb = 110 , Nc = 30 , Ht = 200 , Tdg = 1, k = 2 , Tr = 3 , Ta = 0.1 , Ts = 1, Dark = True, GUI = False):\n",
    "    \n",
    "    if GUI == False:\n",
    "        \n",
    "        #Changing backend rendering to qt5 (Interactable graph!! yay!!)\n",
    "        from IPython import get_ipython\n",
    "        get_ipython().run_line_magic(\"matplotlib\",\"qt5\")\n",
    "    \n",
    "    #Creating a mollist with the starting counts\n",
    "    objList = ml.molList()\n",
    "    objList.insert(\"A\", Na)\n",
    "    objList.insert(\"B\", Nb)\n",
    "    objList.insert(\"C\", 0)\n",
    "    \n",
    "    #Initializing simulation space\n",
    "    simulation = ev.simulation(objList,L)\n",
    "    \n",
    "    #Initializing cap\n",
    "    cap = cp.cap()\n",
    "    \n",
    "    #Add first event\n",
    "    cap.addEvent(cp.event(0, \"Move\"))\n",
    "\n",
    "    #Initializing graph data\n",
    "    graphData = [[0] , [[Na] ,[Nb] ,[0]], [[Na] ,[Nb] ,[0]], [[0] ,[0] ,[0]]]\n",
    "    \n",
    "    \n",
    "    #Setting bool values\n",
    "    extracting = False\n",
    "    inserting = False\n",
    "    \n",
    "    while cap.currentEvent().time <= Ht:\n",
    "        \n",
    "        if cap.currentEvent().kind == \"Move\":\n",
    "            \n",
    "            simulation.globalMoveEvent(k)\n",
    "            cap.addEvent(cp.event(cap.currentEvent().time + randomxp(Tr), \"Reaction\"))\n",
    "            \n",
    "        elif cap.currentEvent().kind == \"Reaction\":\n",
    "            \n",
    "            simulation.reactionEvent()\n",
    "            cap.addEvent(cp.event(cap.currentEvent().time + randomxp(Tdg), \"Move\"))\n",
    "            \n",
    "        elif cap.currentEvent().kind == \"Extraction\":\n",
    "            \n",
    "            simulation.removeEvent('C')\n",
    "            extracting = False\n",
    "            \n",
    "        elif cap.currentEvent().kind == \"Insertion\":\n",
    "            \n",
    "            simulation.insertEvent('A', round(Na/2))\n",
    "            simulation.insertEvent('B', round(Nb/2)) \n",
    "            inserting = False\n",
    "            \n",
    "        if not extracting and simulation.totalMolCount.getCount('C') > Nc: \n",
    "            \n",
    "            cap.addEvent(cp.event(cap.currentEvent().time + randomxp(Ts), \"Extraction\")) \n",
    "            extracting = True\n",
    "            \n",
    "        if not inserting and simulation.totalMolCount.getCount('A') < (Na / 2) and simulation.totalMolCount.getCount('B') < (Nb / 2):\n",
    "        \n",
    "            cap.addEvent(cp.event(cap.currentEvent().time + randomxp(Ts), \"Insertion\")) \n",
    "            inserting = True  \n",
    "                \n",
    "        cap.delCurrentEvent()\n",
    "\n",
    "        #Graph x axis\n",
    "        graphData[0].append(cap.currentEvent().time)\n",
    "        \n",
    "        #Graph y axis for current count in reactor\n",
    "        graphData[1][0].append(simulation.totalMolCount.getCount('A'))\n",
    "        graphData[1][1].append(simulation.totalMolCount.getCount('B'))\n",
    "        graphData[1][2].append(simulation.totalMolCount.getCount('C'))\n",
    "        \n",
    "        #Graph y axis for total count inserted\n",
    "        graphData[2][0].append(simulation.totalMolConsumed.getCount('A'))\n",
    "        graphData[2][1].append(simulation.totalMolConsumed.getCount('B'))\n",
    "        graphData[2][2].append(simulation.totalMolConsumed.getCount('C'))\n",
    "        \n",
    "        #Graph y axis for total count extracted\n",
    "        graphData[3][0].append(simulation.totalMolRetrieved.getCount('A'))\n",
    "        graphData[3][1].append(simulation.totalMolRetrieved.getCount('B'))\n",
    "        graphData[3][2].append(simulation.totalMolRetrieved.getCount('C'))\n",
    "        \n",
    "    #Print outputs\n",
    "    if GUI == True:\n",
    "        \n",
    "        return graphData,[str(graphData[2][0][-1]), str(graphData[2][1][-1]), str(graphData[3][2][-1])]\n",
    "    \n",
    "    else:\n",
    "        \n",
    "        print(\"A Consumido: \" + str(graphData[2][0][-1])) \n",
    "        print(\"B Consumido: \" + str(graphData[2][1][-1]))    \n",
    "        print(\"C Obtido: \" + str(graphData[3][2][-1]))\n",
    "        \n",
    "        printGraph(graphData, Dark)"
   ]
  },
  {
   "cell_type": "markdown",
   "id": "8aec29cb",
   "metadata": {},
   "source": [
    "#### Simulation arguments\n",
    "\n",
    "Simular takes in the optional arguments: L, Na, Nb, Nc, Ht, Tdg, k, Tr, Ta, Ts, Dark, GUI.\n",
    "\n",
    ">Where: </p>\n",
    "> </p>\n",
    ">L - Defines simulation cube size </p>\n",
    ">Na - Starting number of A particle </p>\n",
    ">Nb - Starting number of B particle </p>\n",
    ">Nc - Count of C particle where C starts to get removed from system </p>\n",
    ">Ht - Max simulation time </p>\n",
    ">Tgd - Input variable to calculate the time for our move events </p>\n",
    ">Tr - Input variable to calculate the time for our reaction events </p>\n",
    ">Ta - Input variable to calculate the time for our insertion events </p>\n",
    ">Ts - Input variable to calculate the time for our extraction events </p>\n",
    ">k - This is the max number of cells an object can move in an axis at once (moveMaxDistance in simulation class) </p>\n",
    ">Dark - When set to true, graph will be printed in dark mode, if false, graph will be printed in light mode </p>\n",
    ">GUI - Set to false by default, this argument is used for our GUI module (extra module) and should only be set to true when the function is called by the GUI module. Setting it to true when using simular() from the console will lead to problems. </p>\n",
    "\n",
    "#### Simulation initialization\n",
    "\n",
    "We first create a molList class with the name objList where we store our starting amounts for each particle, which we then use to initialize the simulation class along with the cube size.\n",
    "\n",
    "We then initialize the cap class and add the first event to it: \"Move\", afterwards we initialize the graphData list where we will store all the data from our simulation to then print a graph.\n",
    "\n",
    "Our cap initialization ends once we set the starting bool values we will use in the mainloop.\n",
    "\n",
    "If you are using our GUI, simular() will be using GUI = true, which will skip the matplotlib graphics backend command. (Explained later in the report)\n",
    "\n",
    "#### Main loop\n",
    "\n",
    "Our main loop runs until the next event time is larger than the max simulation time.\n",
    "\n",
    "Here we add and run events depending on the current event and the conditions in the reactor.\n",
    "\n",
    ">Events: </p>\n",
    "> </p>\n",
    ">\"Move\" - This event triggers a globalMoveEvent in the simulation class and adds a new \"Reaction\" event to the CAP with a time of (current event time + randomxp(Tr)). </p>\n",
    ">\"Reaction\" - This event triggers a reaction event within the simulation class and adds a new \"Move\" event to the CAP with a time of (current event time + randomxp(Tdg)). </p>\n",
    ">\"Extraction\" - This event triggers the extraction of the \"C\" object from the system and sets extracting to false. </p>\n",
    ">\"Insertion\" - This event triggers the insertion of Na/2 \"A\" objects and Nb/2 \"B\" objects into the reactor and sets inserting to false </p>\n",
    "\n",
    "If extracting is false and the total count in \"C\" is above Nc, an \"Extraction\" is added to the CAP with a time of (current event time + randomxp(Ts)).\n",
    "If inserting is false, the total count of \"A\" is bellow Na/2 and the total count of \"B\" is bellow Nb/2, an \"Insertion\" event is added to the CAP with a time of (current event time + randomxp(Ta)).\n",
    "\n",
    "At the end of each event manipulation, the current event is removed from the cap.\n",
    "\n",
    "Finally we update our graphData list with new data.\n",
    "\n",
    "#### Ending the simulation\n",
    "\n",
    "At the end of the simulation we print the amount of \"A\" and \"B\" consumed along with the amount of \"C\" extracted.\n",
    "\n",
    "A graph is then printed using our printGraph function if GUI is set to false, if set to true, data will be carried onto our GUI module where it will then print the data (Both GUI and simular() use the prinGraph function):\n",
    "\n",
    "### 3. printGraph(graphData, Dark):"
   ]
  },
  {
   "cell_type": "code",
   "execution_count": 28,
   "id": "8989b3e8",
   "metadata": {},
   "outputs": [],
   "source": [
    "import matplotlib.pyplot as plt\n",
    "\n",
    "def printGraph (graphData, Dark):\n",
    "     \n",
    "    #Tracing graph data\n",
    "    maxTrace = 0\n",
    "    \n",
    "    for i1 in range(3):\n",
    "        for i2 in range(3):\n",
    "            \n",
    "            if max(graphData[i1 + 1][i2]) > maxTrace:\n",
    "                maxTrace = max(graphData[i1 + 1][i2])\n",
    "        \n",
    "    #Plot cosmetics\n",
    "    if Dark:\n",
    "        \n",
    "        primaryColor = \"#434C5E\"\n",
    "        secondaryColor = \"#282D38\"\n",
    "        textColor = \"white\"\n",
    "        \n",
    "    else:\n",
    "        \n",
    "        primaryColor = \"white\"\n",
    "        secondaryColor = \"white\"\n",
    "        textColor = \"black\"\n",
    "    \n",
    "    #Set colors\n",
    "    fig, ax = plt.subplots()\n",
    "    fig.set_facecolor(primaryColor)\n",
    "    fig.gca().set_facecolor(secondaryColor)\n",
    "    ax.tick_params(colors = textColor)\n",
    "    ax.tick_params(axis = 'x', colors = textColor)\n",
    "    ax.tick_params(axis = 'y', colors = textColor)\n",
    "    \n",
    "    ax.grid(color = \"#434C5E\")\n",
    "    \n",
    "    ax.set_xlabel(\"Tempo\", color = textColor)\n",
    "    ax.set_ylabel(\"Quantidade de moléculas\", color = textColor)\n",
    "\n",
    "    #Plot Data\n",
    "    ax.axis([0, max(graphData[0]), 0, maxTrace + 10])\n",
    "    \n",
    "    currentA, = ax.plot(graphData[0], graphData[1][0], color = \"#efb48f\", linestyle = \"-\", label = \"A no reator\", linewidth = 1)\n",
    "    currentB, = ax.plot(graphData[0], graphData[1][1], color = \"#94dceb\", linestyle = \"-\", label = \"B no reator\", linewidth = 1)\n",
    "    currentC, = ax.plot(graphData[0], graphData[1][2], color = \"#cd79c8\", linestyle = \"-\", label = \"C no reator\", linewidth = 1)\n",
    "    \n",
    "    totalA, = ax.plot(graphData[0], graphData[2][0], color = \"#ff6e14\", linestyle = \"-\", label = \"A total gasto\", linewidth = 1)\n",
    "    totalB, = ax.plot(graphData[0], graphData[2][1], color = \"#00c8f0\", linestyle = \"-\", label = \"B total gasto\", linewidth = 1)\n",
    "    totalC, = ax.plot(graphData[0], graphData[3][2], color = \"#ff29f1\", linestyle = \"-\", label = \"C total extraido\", linewidth = 1)\n",
    "    \n",
    "    #Initialize legend\n",
    "    leg = plt.legend(loc = 2, facecolor = primaryColor)\n",
    "    leg.get_frame().set_color(primaryColor)\n",
    "    \n",
    "    for text in leg.get_texts():\n",
    "        \n",
    "        text.set_color(textColor)\n",
    "        \n",
    "    ##Build interactable graph\n",
    "    legLines = leg.get_lines()\n",
    "    \n",
    "    for legLine in legLines:\n",
    "        \n",
    "        legLine.set_picker(True)\n",
    "        legLine.set_pickradius(10)\n",
    "        \n",
    "    graphDictionary = {\n",
    "        0 : currentA,\n",
    "        1 : currentB,\n",
    "        2 : currentC,\n",
    "        3 : totalA,\n",
    "        4 : totalB,\n",
    "        5 : totalC\n",
    "        }\n",
    "    \n",
    "    #Handles the event for clicking on the labels\n",
    "    def onClickEventHandler(event):\n",
    "        \n",
    "        clicked = event.artist\n",
    "        visibility = clicked.get_visible()\n",
    "        \n",
    "        clicked.set_visible(not visibility)\n",
    "        graphDictionary[legLines.index(clicked)].set_visible(not visibility)\n",
    "        \n",
    "        plt.draw()\n",
    "        \n",
    "    #Link labels to click event\n",
    "    fig.canvas.mpl_connect('pick_event', onClickEventHandler)\n",
    "    \n",
    "    plt.show()"
   ]
  },
  {
   "cell_type": "markdown",
   "id": "fac5fc69",
   "metadata": {},
   "source": [
    "Our graph function takes in two arguments, the graphData to plot and the optional Dark argument.\n",
    "\n",
    "We first find out which of the graph lines will have the maximum value out of all the graph lines, storing that value in the variable maxTrace.\n",
    "\n",
    "We then use the Dark argument to set the colors for our graph, if Dark is true, a dark mode graph is printed, else a light mode graph will be printed.\n",
    "\n",
    "We then plot all the graph lines with our data, create a legend using that same data and finally start building the graph.\n",
    "\n",
    "Our graph is an interactable graph where you can click the lines on the legend to either turn on or off the desired line from the graph, allowing for an easier reading of the plotted data. We do this by enabling the picker feature from matplotlib in the legend buttons and attaching their pick event to an event handler that toggles the visibility of both the line and the legend in question.\n",
    "\n",
    "_NOTE: The graph interactability feature is only possible using the matplotlib qt5 graphics backend in spyder, which should be enabled through the simulation module, but if for some reason the graph is printing on the plot area of spyder and you wish to use the interactability feature, type %matplotlib qt5 into the console to switch the graphing backend to qt5. Do note that this method makes it change permanently unlike the simulation module method, to switch back to printing use %matplotlib inline._"
   ]
  },
  {
   "cell_type": "markdown",
   "id": "6c2f1298",
   "metadata": {},
   "source": [
    "## Extra modules (GUI module and Run.pyw) and Setup batch file\n",
    "\n",
    "As a cherry on top of the cake we decided to add a GUI module that lets you run the simulation through a custom made user interface that makes inputting the simulation arguments alot easier and intuitive.\n",
    "\n",
    "If you wish to use the GUI you must first run our Setup batch file, wich simply runs two lines of commands in the windows command prompt:\n",
    "\n",
    "Note: If the simulator is located in a directory that is associated with one drive, tcl returns random errors. We have tried to fix this but due to our inexperience in tcl and due to the lack of documentation on the language (its very old), we have no idea how to fix this problem... We added a bandaid fix by running the GUI in a themeless mode to remove this error, but if you wish to have a nice looking GUI, we encourage you to move the simulation folder to a directory outside of One drive.\n",
    "\n",
    "### 1. Setup.bat"
   ]
  },
  {
   "cell_type": "raw",
   "id": "3725fa47",
   "metadata": {},
   "source": [
    "py -m pip install matplotlib\n",
    "pause"
   ]
  },
  {
   "cell_type": "markdown",
   "id": "56dafa42",
   "metadata": {},
   "source": [
    "The first command runs python, goes to its directory scripts and runs the pip script. This script allows us to install modules from the online python library, which we then use to install matplotlib. The reason we do this is because python itself does not come with matplotlib by default, so we need to install it.\n",
    "\n",
    "The second command simply pauses the command prompt so the user can check if the install was successful or not.\n",
    "\n",
    "After the setup, you can run the Run.pyw file to run our GUI:\n",
    "\n",
    "### 2. Run.pyw"
   ]
  },
  {
   "cell_type": "code",
   "execution_count": 29,
   "id": "52aab882",
   "metadata": {},
   "outputs": [
    {
     "ename": "NameError",
     "evalue": "name '__file__' is not defined",
     "output_type": "error",
     "traceback": [
      "\u001b[1;31m---------------------------------------------------------------------------\u001b[0m",
      "\u001b[1;31mNameError\u001b[0m                                 Traceback (most recent call last)",
      "\u001b[1;32m~\\AppData\\Local\\Temp/ipykernel_5724/1383137219.py\u001b[0m in \u001b[0;36m<module>\u001b[1;34m\u001b[0m\n\u001b[0;32m      1\u001b[0m \u001b[1;32mimport\u001b[0m \u001b[0mos\u001b[0m\u001b[1;33m,\u001b[0m \u001b[0msys\u001b[0m\u001b[1;33m\u001b[0m\u001b[1;33m\u001b[0m\u001b[0m\n\u001b[1;32m----> 2\u001b[1;33m \u001b[0msys\u001b[0m\u001b[1;33m.\u001b[0m\u001b[0mpath\u001b[0m\u001b[1;33m.\u001b[0m\u001b[0mappend\u001b[0m\u001b[1;33m(\u001b[0m\u001b[0mos\u001b[0m\u001b[1;33m.\u001b[0m\u001b[0mpath\u001b[0m\u001b[1;33m.\u001b[0m\u001b[0mjoin\u001b[0m\u001b[1;33m(\u001b[0m\u001b[0mos\u001b[0m\u001b[1;33m.\u001b[0m\u001b[0mpath\u001b[0m\u001b[1;33m.\u001b[0m\u001b[0mdirname\u001b[0m\u001b[1;33m(\u001b[0m\u001b[0m__file__\u001b[0m\u001b[1;33m)\u001b[0m\u001b[1;33m,\u001b[0m \u001b[1;34m\"modules\"\u001b[0m\u001b[1;33m)\u001b[0m\u001b[1;33m)\u001b[0m\u001b[1;33m\u001b[0m\u001b[1;33m\u001b[0m\u001b[0m\n\u001b[0m\u001b[0;32m      3\u001b[0m \u001b[1;32mimport\u001b[0m \u001b[0mGUI\u001b[0m\u001b[1;33m\u001b[0m\u001b[1;33m\u001b[0m\u001b[0m\n",
      "\u001b[1;31mNameError\u001b[0m: name '__file__' is not defined"
     ]
    }
   ],
   "source": [
    "import os, sys\n",
    "sys.path.append(os.path.join(os.path.dirname(__file__), \"modules\"))\n",
    "import GUI"
   ]
  },
  {
   "cell_type": "markdown",
   "id": "236302c6",
   "metadata": {},
   "source": [
    "Run.pyw imports os and sys, allowing us to move from the file location (directory) into the modules folder, where we can then import the GUI module that gets run by default.\n",
    "\n",
    "The reason we use the .pyw file extension instead of .py is that .pyw launches the python code without summoning a windows command prompt, making the whole process alot cleaner.\n",
    "\n",
    "### 3. GUI Module\n",
    "\n",
    "The GUI module is split into two classes: inputBox and GUI, the inputBox is a complementary class to the GUI class.\n",
    "\n",
    "First we will explain the inputBox class, as its the simpler one:\n",
    "\n",
    "#### 3 inputBox initialization and functions"
   ]
  },
  {
   "cell_type": "code",
   "execution_count": null,
   "id": "fc575caa",
   "metadata": {},
   "outputs": [],
   "source": [
    "class inputBox:\n",
    "    \n",
    "    def __init__(self, parentFrame, _text, _row, _column):\n",
    "        \n",
    "        self.text = ttk.Label(parentFrame, text = _text, justify = \"center\")\n",
    "        self.spinbox = ttk.Spinbox(parentFrame, from_ = 0, to = 9999, width = 12)\n",
    "        self.spinbox.set(1)\n",
    "        \n",
    "        self.text.grid(row = _row, column = _column, padx = 5, pady = 5 if _row > 1 else (20, 5))\n",
    "        self.spinbox.grid(row = _row + 1, column = _column, padx = 5, pady = 5)\n",
    "\n",
    "    def getInt(self):\n",
    "        \n",
    "        return int(self.spinbox.get())\n",
    "    \n",
    "    def getFloat(self):\n",
    "        \n",
    "        return float(self.spinbox.get())"
   ]
  },
  {
   "cell_type": "markdown",
   "id": "1a578bca",
   "metadata": {},
   "source": [
    "The class initialization takes in 4 arguments: parentFrame, _text, _row, _column\n",
    "\n",
    "parentFrame is used so we can assign a master to the tkinter buttons and labels, text is used to set the displayed text in the lable and row and column are used to set the position of the widgets within the parentFrame.\n",
    "\n",
    "The function getInt simply returns the value of the inputBox's spinbox in the form of an integer. The function getFloat does the same but returns the value as a float.\n",
    "\n",
    "Each one of these input boxes consist of a text and a spinbox where we insert our desired number. Making it easy to create multiple inputs for our GUI.\n",
    "\n",
    "#### 4 GUI initialization"
   ]
  },
  {
   "cell_type": "code",
   "execution_count": null,
   "id": "09a5fd51",
   "metadata": {},
   "outputs": [],
   "source": [
    "from tkinter import ttk\n",
    "        \n",
    "class GUI:\n",
    "    \n",
    "    #Initializing GUI\n",
    "    def __init__(self):\n",
    "        \n",
    "        self.themelessMode = False\n",
    "        self.rootInit()\n",
    "\n",
    "        #Finish initializing GUI\n",
    "        self.root.title(\"Simulador\")\n",
    "        self.root.geometry(\"410x400\")\n",
    "        self.root.eval('tk::PlaceWindow . center')\n",
    "        self.root.resizable(width=False, height=False)\n",
    "        \n",
    "        #Create GUI interior frame\n",
    "        self.frame = ttk.Frame(self.root)\n",
    "        self.frame.pack(fill = \"both\", expand = 1)\n",
    "        \n",
    "        #Setting themes!\n",
    "        if self.themelessMode == False:\n",
    "            self.style = ttk.Style()\n",
    "            self.themeVar = ttk.tkinter.BooleanVar()\n",
    "        \n",
    "        #Create all buttons\n",
    "        self.buildUI()\n",
    "        \n",
    "        #Warn user of one drive boogie man if directory is contained in one drive\n",
    "        if self.themelessMode == False:\n",
    "            \n",
    "            self.switchThemes()\n",
    "              \n",
    "        else:\n",
    "            \n",
    "            ttk.tkinter.messagebox.showwarning(title = \"One drive detetado\", message = \"Está a correr o simulador numa pasta localizada numa diretiva conectada ao One Drive. Isto cria erros com o tcl e, consequentemente, com o carregamento dos pacotes de temas. Se quiser um menu mais bonito, retire a pasta do simulador desta diretiva e ponha-a noutra diretiva não associada ao One Drive. Obrigado.\")\n",
    "        \n",
    "        #Run app\n",
    "        self.root.mainloop()\n",
    "        self.root.update()"
   ]
  },
  {
   "cell_type": "markdown",
   "id": "b319eed7",
   "metadata": {},
   "source": [
    "First we initialize the tkinter root (function explained ahead), afterwards we create a new tkinter window and build the  window frame, initialize the theme groundwork (creating a boolean variable for our light/dark theme buttons) and use our buildUI function (explained ahead) to build buttons into the tkinter frame.\n",
    "\n",
    "Aditionally, theres a themeless mode that skips all of the theme initialization. This was added after we found errors with tcl when the simulation modules are located within a One Drive directory. If One Drive is detected (An error happens when loading packages with tcl), we print a warning message box warning the user.\n",
    "\n",
    "Finally, we update the window theme and run the tkinter main loop.\n",
    "\n",
    "#### 5 GUI Class functions\n",
    "\n",
    "**5.1** rootInit(self)"
   ]
  },
  {
   "cell_type": "code",
   "execution_count": null,
   "id": "62862030",
   "metadata": {},
   "outputs": [],
   "source": [
    "import os\n",
    "from pathlib import PureWindowsPath\n",
    "\n",
    "def rootInit(self):\n",
    "\n",
    "    #Initializing Tkinter\n",
    "    self.root = ttk.tkinter.Tk()\n",
    "\n",
    "    #Try importing, if it errors, launch with no theme\n",
    "    try:\n",
    "\n",
    "        #Importing theme .tcl files using tcl evaluation\n",
    "        #Getting windows path\n",
    "        path = PureWindowsPath(os.path.join(os.path.dirname(os.path.dirname(__file__)), \"themes\"))\n",
    "\n",
    "        #Converting \\ to /\n",
    "        pathString = path.as_posix()\n",
    "        print(pathString)\n",
    "\n",
    "        #Ready packages\n",
    "        self.root.tk.eval(\"\"\"\n",
    "                          set theme_directory %s\n",
    "\n",
    "                     package ifneeded breeze 0.6 \\\n",
    "                         [list source [file join $theme_directory breeze/breeze.tcl]]\n",
    "                     package ifneeded breeze-dark 0.1 \\\n",
    "                         [list source [file join $theme_directory breeze-dark/breeze-dark.tcl]]\n",
    "                             \"\"\" % pathString)\n",
    "\n",
    "        #Import packages\n",
    "        self.root.tk.call(\"package\", \"require\", \"breeze\")\n",
    "        self.root.tk.call(\"package\", \"require\", \"breeze-dark\")\n",
    "\n",
    "    except:\n",
    "\n",
    "        self.themelessMode = True"
   ]
  },
  {
   "cell_type": "markdown",
   "id": "a1b06545",
   "metadata": {},
   "source": [
    "We import os in order to work with the system's file paths, additionally, we import PureWindowsPath from pathlib (comes with python 3) so we can manipulate file paths easily.\n",
    "\n",
    "Here we first initialize tkinter onto the GUI class's self.root atribute. After that we try to run the tcl code block:\n",
    "\n",
    "We get the path to our themes folder and use .as_posix() to turn the path's backslashes to forwardslashes and convert it to a string ( \\ -> /) so we can use it to define our theme's path in tcl.\n",
    "\n",
    "After we get our processed path we use a tcl evaluation to first set the theme_directory path (variable comes from % pathString) and then load our theme packages. This was by far one of the hardest things to get working, as we had to learn how to write in tcl and how to pull python variables to tcl.\n",
    "\n",
    "Finally, we let tkinter load our theme packages. (Tkinter is built on tcl)\n",
    "\n",
    "If it fails to run Tcl we know an error has happened and switch the GUI to themeless mode, skipping tcl loading. We also know that most likely that error is due to One Drive unless the files have been tampered with. \n",
    "\n",
    "**5.2** buildUI(self)"
   ]
  },
  {
   "cell_type": "code",
   "execution_count": null,
   "id": "98244f32",
   "metadata": {},
   "outputs": [],
   "source": [
    "def buildUI(self):\n",
    "        \n",
    "        #Creates all the buttons for the GUI\n",
    "        self.widgets = []\n",
    "        \n",
    "        Texts = {\n",
    "            0 : \"(Na) Quantidade \\n de A inicial\",\n",
    "            1 : \"(Nb) Quantidade \\n de B inicial\",\n",
    "            2 : \"(Nc) Limiar de \\n remoção de C\",\n",
    "            3 : \"(Ht) Tempo de \\n simulação\",\n",
    "            4 : \"(Tdg) Modificador do \\n tempo entre deslocamentos\",\n",
    "            5 : \"(Tr) Modificador do \\n tempo entre reações\",\n",
    "            6 : \"(Ta) Modificador do \\n tempo entre adições\",\n",
    "            7 : \"(Ts) Modificador do \\n tempo entre extrações\",\n",
    "            8 : \"(k) Limite de \\n deslocamento\",\n",
    "            9 : \"(L) Tamanho \\n do reator\"\n",
    "            }\n",
    "\n",
    "        for i in range(10):\n",
    "            \n",
    "            self.widgets.append(inputBox(self.frame, Texts[i], (i // 3) * 2, i % 3 if i < 9 else 1))\n",
    "        \n",
    "        #Tcl error \"fix\"\n",
    "        if self.themelessMode == False:\n",
    "            \n",
    "            self.widgets.append(ttk.Radiobutton(self.frame, text = \"Dark theme\", variable = self.themeVar, value = True, command = self.switchThemes))\n",
    "            self.widgets.append(ttk.Radiobutton(self.frame, text = \"Light theme\", variable = self.themeVar, value = False, command = self.switchThemes))\n",
    "            \n",
    "        self.widgets.append(ttk.Button(self.frame, text = \"Simular\", width = 12, command = self.simulateHandlerEvent))\n",
    "\n",
    "        for i in range(3 if self.themelessMode == False else 1):\n",
    "            \n",
    "            self.widgets[10 + i].grid(column = i + (0 if self.themelessMode == False else 1), row = 9, padx = 5, pady = 10)"
   ]
  },
  {
   "cell_type": "markdown",
   "id": "5a3c15bf",
   "metadata": {},
   "source": [
    "Here we simply create a list under the class's widgets atribute, and load both inputBox classes and widgets into it, setting them into the frame. The last three buttons are linked to the switchThemes function and the simulateHandlerEvent (Explained further ahead)\n",
    "\n",
    "If themeless mode is enabled, the creation of themed buttons will be skipped.\n",
    "\n",
    "**5.3** switchThemes(self)"
   ]
  },
  {
   "cell_type": "code",
   "execution_count": null,
   "id": "7175ef58",
   "metadata": {},
   "outputs": [],
   "source": [
    "def switchThemes(self):\n",
    "        \n",
    "        #This switches the theme based on the bool value defined on the radio buttons\n",
    "        Themes = {\n",
    "            True : \"breeze-dark\",\n",
    "            False : \"breeze\"\n",
    "            }\n",
    "        \n",
    "        self.style.theme_use(Themes[self.themeVar.get()])"
   ]
  },
  {
   "cell_type": "markdown",
   "id": "df723f07",
   "metadata": {},
   "source": [
    "This function simply creates a dictionary that we then use to convert our radio buttons' selection into a change theme input on tkinter. As the radio buttons are liked to this function, the theme updates everytime we update the boolean variable by clicking an unselected radio button.\n",
    "\n",
    "**5.4** simulateHandlerEvent(self)"
   ]
  },
  {
   "cell_type": "code",
   "execution_count": null,
   "id": "6a382bbb",
   "metadata": {},
   "outputs": [],
   "source": [
    "import simulation\n",
    "\n",
    "def simulateHandlerEvent(self):\n",
    "        \n",
    "        #Handle simulation start\n",
    "        try:\n",
    "            \n",
    "            graphData,Data = simulation.simular(\n",
    "                Na = self.widgets[0].getInt(), Nb = self.widgets[1].getInt(), Nc = self.widgets[2].getInt(), Ht = self.widgets[3].getInt(),\n",
    "                Tdg = self.widgets[4].getFloat(), Tr = self.widgets[5].getFloat(), Ta = self.widgets[6].getFloat(), Ts = self.widgets[7].getFloat(),\n",
    "                k = self.widgets[8].getInt(), GUI = True)\n",
    "            \n",
    "        #If simulation fails\n",
    "        except:\n",
    "            \n",
    "            ttk.tkinter.messagebox.showerror(title = \"Erro de simulador\", message = \"Um ou mais inputs levam a um crash do simulador, verifique inputs.\")\n",
    "            self.root.update()\n",
    "            \n",
    "        else:\n",
    "            \n",
    "            InfoBox = ttk.tkinter.Toplevel()\n",
    "            InfoBox.title(\"Resultados\")\n",
    "            InfoBox.geometry(\"250x120\")\n",
    "            \n",
    "            frame = ttk.Frame(InfoBox)\n",
    "            frame.pack(side = \"top\", fill = \"both\", expand = 1)\n",
    "            \n",
    "            infoTexts = []\n",
    "            \n",
    "            infoTexts.append(ttk.Label(frame, text = \"A Consumido: \" + str(Data[0])))\n",
    "            infoTexts.append(ttk.Label(frame, text = \"B Consumido: \" + str(Data[1])))\n",
    "            infoTexts.append(ttk.Label(frame, text = \"C Extraido: \" + str(Data[2])))\n",
    "            \n",
    "            for text in infoTexts:\n",
    "                \n",
    "                text.pack(side = \"top\", padx = 5, pady = 10)\n",
    "            \n",
    "            simulation.printGraph(graphData, Dark = self.themeVar.get() if self.themelessMode == False else False)"
   ]
  },
  {
   "cell_type": "markdown",
   "id": "b3751633",
   "metadata": {},
   "source": [
    "This is where we link our GUI to our simulator. By clicking the simulate button, this event handler gets triggered.\n",
    "\n",
    "First we try our simulation, where we use our previously mentioned GUI argument to run the simulation in GUI mode, where it skips graphing and text printing and outputs the data directly onto this function so we can manipulate it.\n",
    "\n",
    "If the simulation errors, we create a popup error window to warn the user that some parameters are causing the simulation to crash, this also lets us prevent a tinker crash, where the window stays open but all functions break.\n",
    "\n",
    "If the simulation is successful we process our data by first printing a results box with our info along with graphing the outputed data and showing it to the user. This graphing function is the same on used in our base simulator.\n",
    "\n",
    "If themeless mode is enabled, light mode will be used by default."
   ]
  },
  {
   "cell_type": "code",
   "execution_count": null,
   "id": "5e43d370",
   "metadata": {},
   "outputs": [],
   "source": [
    "gui = GUI()"
   ]
  },
  {
   "cell_type": "markdown",
   "id": "90adff74",
   "metadata": {},
   "source": [
    "This last line of code initializes the GUI when the module is imported."
   ]
  },
  {
   "cell_type": "markdown",
   "id": "5b22e2c7",
   "metadata": {},
   "source": [
    "## Closing statement\n",
    "\n",
    "With this, we come to and end on our report. With it we learned how to make our own simulations programatically using the Stochastic Discrete Simulation model, as well as all the fundamentals of programing that are required for it."
   ]
  }
 ],
 "metadata": {
  "kernelspec": {
   "display_name": "Python 3 (ipykernel)",
   "language": "python",
   "name": "python3"
  },
  "language_info": {
   "codemirror_mode": {
    "name": "ipython",
    "version": 3
   },
   "file_extension": ".py",
   "mimetype": "text/x-python",
   "name": "python",
   "nbconvert_exporter": "python",
   "pygments_lexer": "ipython3",
   "version": "3.9.7"
  }
 },
 "nbformat": 4,
 "nbformat_minor": 5
}

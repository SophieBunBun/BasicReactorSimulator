{
 "cells": [
  {
   "cell_type": "markdown",
   "id": "8feddc8f",
   "metadata": {},
   "source": [
    "# Relatório\n",
    "\n",
    "Trabalho realizado por:\n",
    "></p>\n",
    ">Alexandre Santos nº 103119 </p>\n",
    ">Gustavo Caldeira nº 103336 </p>\n",
    ">Tomás Gonçalves nº 103352 </p>\n",
    "\n",
    "Docentes: </p>\n",
    "></p>\n",
    ">Yasser Omar (yasser.omar@tecnico.ulisboa.pt) </p>\n",
    ">Gonçalo Lobato Baptista Teixeira (goncalo.l.b.teixeira@tecnico.ulisboa.pt) </p>\n",
    ">José Diogo Da Costa Jesus (jose.costa.jesus@tecnico.ulisboa.pt) </p>\n",
    "\n",
    "\n",
    "# Introdução\n",
    "Este relatório foi realizado no âmbito da UC de CP e destina-se a explicar como as funções de cada módulo e classe funcionam.\n",
    "Tal como pretendido, o nosso projeto segue o modelo de simulador da simulação discreta estocástica.\n",
    "O simulador cria um espaço a que chamamos cubo, onde vão ocorrer reações. As partículas neste espaço são chamadas de A, B e C, e reagem para formar C ou para decompor C em A e B.\n",
    "Para isto precisámos:\n",
    "\n",
    "1. Uma maneira de aceder e guardar o número de partículas do nosso sistema;\n",
    "2. O espaço onde o simulador atua;\n",
    "3. 4 eventos - Um de deslocamento global, um de reação, outro de inserção e ainda outro de extração;\n",
    "4. Uma CAP, que pudesse manipular os eventos e guardá-los;\n",
    "5. Transformação dos dados obtidos num gráfico.\n",
    "\n",
    "Para isso fizemos as classes e os módulos abaixo.\n",
    "1. A Classe \"molList\";\n",
    "2. A Classe \"cube\";\n",
    "3. As Classes \"Cap\" e \"event\";\n",
    "4. O módulo principal, que contém o simulador.\n"
   ]
  },
  {
   "cell_type": "markdown",
   "id": "60113ffa",
   "metadata": {},
   "source": [
    "## Classe molList (módulo \"mollist\")\n",
    "\n",
    "Para começar, achámos que simplificaria todo o projeto criar uma classe, à qual chamámos \"mollist\", a partir da qual conseguíssemos aceder rapidamente ao número de partículas no nosso sistema.\n",
    "\n",
    "A \"mollist\" é uma lista de listas contendo um objeto (um \"str\") que identifica a partícula em questão e um \"int\" com a sua quantidade. \n",
    "\n",
    "> Um exemplo seria: </p>\n",
    "> </p>\n",
    "> [[\"A\", 100], [\"B\", 150], [\"Potatoes\", 99999]]\n",
    "\n",
    "Assim, definimos a classe com as seguintes funções presentes:\n",
    "\n",
    "### **1.** Inicialização da classe"
   ]
  },
  {
   "cell_type": "code",
   "execution_count": 1,
   "id": "a16e4c5f",
   "metadata": {},
   "outputs": [],
   "source": [
    "class molList:\n",
    "\n",
    "    def __init__(self):\n",
    "        self.list = []"
   ]
  },
  {
   "cell_type": "markdown",
   "id": "9f828fe4",
   "metadata": {},
   "source": [
    "A inicialização da classe não requer argumento e cria uma lista vazia sob a variável definida, self.list.\n",
    "\n",
    "### **2.** Funções da classe\n",
    "\n",
    "Qualquer menção de “obj” como argumento de uma função refere-se a um objeto presente numa célula. Basicamente serve como identificação desse objeto, pelo que apenas usaremos as strings “A”, “B” e “C”. (Tudo isto será explicado mais à frente, na classe a que chamámos “cube”).\n",
    "\n",
    "Qualquer menção de “count” como argumento de uma função refere-se à quantidade do objeto presente na célula, sendo, por isso, um “int”.\n",
    "\n",
    "\n",
    "**2.1** self.mollistLen()"
   ]
  },
  {
   "cell_type": "code",
   "execution_count": 2,
   "id": "f5b27640",
   "metadata": {},
   "outputs": [],
   "source": [
    "def mollistLen(self):\n",
    "    return len(self.list)"
   ]
  },
  {
   "cell_type": "markdown",
   "id": "6da5ab93",
   "metadata": {},
   "source": [
    "A função mollistLen() devolve, como o nome indica, o comprimento da mollist. Efetivamente, devolve quantos tipos de objeto estão presentes.\n",
    "\n",
    "**2.2** self.index(obj)"
   ]
  },
  {
   "cell_type": "code",
   "execution_count": 3,
   "id": "71ec227f",
   "metadata": {},
   "outputs": [],
   "source": [
    "def index(self, obj):\n",
    "    return -1 + sum(x + 1 for x in range(self.mollistLen()) if self.list[x][0] == obj)"
   ]
  },
  {
   "cell_type": "markdown",
   "id": "b19c23c3",
   "metadata": {},
   "source": [
    "A função index(obj) devolve o índice em que o objeto pretendido se encontra, devolvendo -1 caso este não esteja presente na mollist.\n",
    "\n",
    "**2.3** self.getCount(obj)"
   ]
  },
  {
   "cell_type": "code",
   "execution_count": 4,
   "id": "7a9c32cc",
   "metadata": {},
   "outputs": [],
   "source": [
    "def getCount(self, obj):\n",
    "    return self.list[self.index(obj)][1] if self.index(obj) > -1 else 0"
   ]
  },
  {
   "cell_type": "markdown",
   "id": "5ef3d72a",
   "metadata": {},
   "source": [
    "A função getCount(obj) devolve a quantidade (count, como dito anteriormente) desse objeto presente na mollist.\n",
    "\n",
    "**2.4** self.getObjects()"
   ]
  },
  {
   "cell_type": "code",
   "execution_count": 5,
   "id": "c6424db7",
   "metadata": {},
   "outputs": [],
   "source": [
    "def getObjects(self):\n",
    "    return [y[0] for y in self.list]"
   ]
  },
  {
   "cell_type": "markdown",
   "id": "b4b7826e",
   "metadata": {},
   "source": [
    "A função getObjects() devolve uma lista contendo todos os objetos (obj) presentes na mollist.\n",
    "\n",
    "**2.5** self.insert(obj , count)"
   ]
  },
  {
   "cell_type": "code",
   "execution_count": 6,
   "id": "218d56bd",
   "metadata": {},
   "outputs": [],
   "source": [
    "def insert(self, obj, count):\n",
    "    self.list = [y for y in self.list if y[0] != obj] + [[obj, self.getCount(obj) + count]] if self.index(obj) > -1 else self.list + [[obj, count]]"
   ]
  },
  {
   "cell_type": "markdown",
   "id": "b179adc0",
   "metadata": {},
   "source": [
    "A função insert(obj, count) insere na mollist uma determinada quantidade (count) do objeto (obj) pretendido.\n",
    "\n",
    "Caso esse objeto exista na mollist, à sua quantidade anterior será adicionada a quantidade pretendida. Se não existir, será adicionado à mollist um novo objeto com a quantidade introduzida na função.\n",
    "\n",
    "**2.6** self.remove(obj, count)"
   ]
  },
  {
   "cell_type": "code",
   "execution_count": 7,
   "id": "5835ff62",
   "metadata": {},
   "outputs": [],
   "source": [
    "def remove(self, obj, count):\n",
    "    self.list = [y for y in self.list if y[0] != obj] + [[obj, self.getCount(obj) - count]] if self.index(obj) > -1 else [y for y in self.list if y[0] != obj]"
   ]
  },
  {
   "cell_type": "markdown",
   "id": "723df52c",
   "metadata": {},
   "source": [
    "A função remove(obj, count) remove uma quantidade pretendida do objeto em questão da mollist.\n",
    "\n",
    "Se o objeto já existir na mollist, a sua quantidade irá diminuir de acordo com o count que foi introduzido, podendo a quantidade desse objeto ser negativa (isto não levanta problemas, visto que a utilização desta classe mais à frente tem isto em consideração). Se o objeto não existir na mollist, nada acontece."
   ]
  },
  {
   "cell_type": "markdown",
   "id": "c2d293ac",
   "metadata": {},
   "source": [
    "## Classe cube (módulo \"cube\")\n",
    "\n",
    "Para correr a nossa simulação precisávamos de criar um espaço onde iriam ocorrer as reações, deslocamentos, etc.\n",
    "\n",
    "Tendo em conta as instruções dadas, criámos um cubo constituído por células, onde L é o nº de células em cada eixo cartesiano, formando um total de L**3 células.\n",
    "\n",
    "\n",
    "> Por exemplo, um cubo com L=2, seria: </p>\n",
    "> </p>\n",
    "> [ [ [ [], [] ] \n",
    ">    ,[ [], [] ] ] \n",
    ">  ,[ [ [], [] ] \n",
    ">    ,[ [], [] ] ] ] \n",
    "\n",
    "> Um exemplo de célula seria: </p>\n",
    "> </p>\n",
    "> [ \"A\", \"B\", \"B\" ] </p>\n",
    "> </p>\n",
    "> Onde cada objeto contido na célula pode ser qualquer tipo de dado, ainda que, no projeto, nós usemos apenas os strings “A”, “B” e “C”.\n",
    "\n",
    "Assim definido o cubo, podemos facilmente aceder a qualquer cela contida no cubo, usando coordenadas:\n",
    "\n",
    "> Cube[x][y][z] – onde Cube[1][0][3] se acederia a célula na posição x=1, y=0 e z=3 do cubo.\n",
    "\n",
    "Baseando-nos nisto, criámos uma classe para implementar este novo tipo de dados e facilmente manipulá-los:\n",
    "\n",
    "### **1.** Inicialização da classe"
   ]
  },
  {
   "cell_type": "code",
   "execution_count": 8,
   "id": "2adae4b4",
   "metadata": {},
   "outputs": [],
   "source": [
    "class cube:\n",
    "    \n",
    "    def __init__(self, size):\n",
    "        self.space = [[[[] for z in range(size)] for y in range(size)] for x in range(size)]          "
   ]
  },
  {
   "cell_type": "markdown",
   "id": "b64f13df",
   "metadata": {},
   "source": [
    "A inicialização da classe lê um parâmetro “size”, que dita o tamanho das listas que formam o cubo, ficando o volume igual a size**3. Por exemplo, um “size”=8 origina um cubo com volume 512 células.\n",
    "\n",
    "A lista 3d gerada é guardada sob a variável própria, self.space.\n",
    "\n",
    "### **2.** Funções da classe </p>\n",
    "\n",
    "Obj refere-se às partículas presentes em cada célula, ou seja, \"A\", \"B\" ou \"C\". </p>\n",
    " </p>\n",
    "As variáveis “coords” e “vector”, que serão inseridas, são listas de inteiros que representam coordenadas (por exemplo, [1,2,3] representa o ponto de coordenadas x=1, y=2 e z=3). </p>\n",
    "\n",
    "**2.1** self.size()"
   ]
  },
  {
   "cell_type": "code",
   "execution_count": 9,
   "id": "ddb86454",
   "metadata": {},
   "outputs": [],
   "source": [
    "def size(self):\n",
    "    return len(self.space)"
   ]
  },
  {
   "cell_type": "markdown",
   "id": "0c702c02",
   "metadata": {},
   "source": [
    "A função self.size(self) retorna o L, ou seja, o tamanho da aresta do cubo.\n",
    "\n",
    "**2.2** self.insertObj(obj, coords)"
   ]
  },
  {
   "cell_type": "code",
   "execution_count": 10,
   "id": "6cf24575",
   "metadata": {},
   "outputs": [],
   "source": [
    "def insertObj(self, obj, coords):\n",
    "    self.space[coords[0]][coords[1]][coords[2]].append(obj)"
   ]
  },
  {
   "cell_type": "markdown",
   "id": "417175e3",
   "metadata": {},
   "source": [
    "A função insertObj(obj, coords) insere um objeto na célula nas coordenadas introduzidas (coords).\n",
    "\n",
    "**2.3** self.removeObj(obj, coords):"
   ]
  },
  {
   "cell_type": "code",
   "execution_count": 11,
   "id": "b3470437",
   "metadata": {},
   "outputs": [],
   "source": [
    "def removeObj(self, obj, coords):\n",
    "    self.space[coords[0]][coords[1]][coords[2]].remove(obj)"
   ]
  },
  {
   "cell_type": "markdown",
   "id": "ca74a2db",
   "metadata": {},
   "source": [
    "A função removeObj(obj, coords) remove um objeto na célula das coordenadas introduzidas. Se o objeto não existir na célula, o cubo permanece igual.\n",
    "    \n",
    "**2.4** self.moveObj(obj, coords, vector)"
   ]
  },
  {
   "cell_type": "code",
   "execution_count": 12,
   "id": "54f53197",
   "metadata": {},
   "outputs": [],
   "source": [
    "def moveObj(self, obj, coords, vector):\n",
    "        \n",
    "        if self.space[coords[0]][coords[1]][coords[2]].count(obj) > 0:\n",
    "            \n",
    "            #Calculate de elastic repulsion from the object hitting the wall\n",
    "            vector = [(vector[i] if 0 <= int(coords[i] + vector[i]) < self.size() else max(min(coords[i] + vector[i], self.size()  - 1),0) - coords[i] - ((coords[i] + vector[i]) % (self.size()  - 1))) for i in range(3)]\n",
    "            \n",
    "            #Calculating the final coordinates\n",
    "            finalCoords = [int(coords[i] + vector[i]) for i in range(3)]\n",
    "            \n",
    "            #Moving the object\n",
    "            self.insertObj(obj, finalCoords)\n",
    "            self.removeObj(obj, coords)"
   ]
  },
  {
   "cell_type": "markdown",
   "id": "032623dc",
   "metadata": {},
   "source": [
    "A função moveObj(obj, coords, vector) move um objeto que está dentro da célula nas coordenadas introduzidas (coords), adicionando a estas um vetor (vector). Se o objeto não existir, nada se altera. Além disto, se depois de movido, a sua posição final estiver fora do cubo, é calculado um novo vetor que simula um ressalto elástico nas paredes do cubo.\n",
    "\n",
    "**2.5** self.getCellsWithObj()"
   ]
  },
  {
   "cell_type": "code",
   "execution_count": 13,
   "id": "10826ef1",
   "metadata": {},
   "outputs": [],
   "source": [
    "def getCellsWithObj(self):\n",
    "    a = []\n",
    "    for x, y, z in it.product(range(self.size()), range(self.size()), range(self.size())):\n",
    "        if cube[x][y][z] != []:\n",
    "            a.append([x,y,z])\n",
    "    return a"
   ]
  },
  {
   "cell_type": "markdown",
   "id": "d9e81147",
   "metadata": {},
   "source": [
    "A função getCellsWithObj() retorna uma lista formada por todas as coordenadas das células que contêm um ou mais objetos.\n",
    "\n",
    "**2.6** self.getObjListInCell(coords)"
   ]
  },
  {
   "cell_type": "code",
   "execution_count": 14,
   "id": "80fb43e4",
   "metadata": {},
   "outputs": [],
   "source": [
    "def getObjListInCell(self, coords):\n",
    "    return self.space[coords[0]][coords[1]][coords[2]]"
   ]
  },
  {
   "cell_type": "markdown",
   "id": "a53a2bc9",
   "metadata": {},
   "source": [
    "A função getObjListInCell(coords) retorna a lista de objetos presente na célula com as coordenadas introduzidas.\n",
    "\n",
    "**2.7** self.getObjectTotals()"
   ]
  },
  {
   "cell_type": "code",
   "execution_count": 15,
   "id": "12152aa1",
   "metadata": {},
   "outputs": [],
   "source": [
    "#Uses the class mollist\n",
    "#import mollist as ml\n",
    "\n",
    "def getObjectTotals(self):\n",
    "        \n",
    "        #Create new mollist\n",
    "        mollist = ml.molList()\n",
    "        \n",
    "        for coords in self.getCellsWithObj():\n",
    "            \n",
    "            cell = self.getObjListInCell(coords)\n",
    "            \n",
    "            while cell != []:\n",
    "                \n",
    "                mollist.insert(cell[0], cell.count(cell[0]))\n",
    "                cell = [y for y in cell if y != cell[0]]\n",
    "                \n",
    "        return mollist"
   ]
  },
  {
   "cell_type": "markdown",
   "id": "d40bc3a0",
   "metadata": {},
   "source": [
    "A função getObjectTotals() retorna um objeto da classe mollist que contém todos os objetos do cubo e a sua quantidade total no cubo.\n"
   ]
  },
  {
   "cell_type": "markdown",
   "id": "e6961ff9",
   "metadata": {},
   "source": [
    "## Classe \"simulation\" (módulo \"events\")\n",
    "\n",
    "Depois de termos as bases definidas (módulos correspondentes às camadas mais internas), definimos os eventos do nosso projeto.\n",
    "Para isto, criámos um novo modulo (\"events\"), que contém uma nova classe (\"simulation\") e as que definimos até agora.\n",
    "\n",
    "### 1. Inicialização da classe"
   ]
  },
  {
   "cell_type": "code",
   "execution_count": 16,
   "id": "6048e47c",
   "metadata": {},
   "outputs": [],
   "source": [
    "class simulation:\n",
    "    \n",
    "    #objList comes in as a molList class\n",
    "    def __init__(self, objList, size):\n",
    "        \n",
    "        #Current object count in system (gets updated after every time the number of particles in system changes)\n",
    "        self.totalMolCount = objList\n",
    "        \n",
    "        #Total retrieved objects\n",
    "        self.totalMolRetrieved = ml.molList()\n",
    "        \n",
    "        #Total consumed objects\n",
    "        self.totalMolConsumed = objList\n",
    "        \n",
    "        #3d simulation space\n",
    "        self.simSpace = cb.cube(size)\n",
    "        \n",
    "        #Insert objects into cube at random\n",
    "        for obj in self.totalMolCount.getObjects():\n",
    "            for i in range(self.totalMolCount.getCount(obj)):\n",
    "                \n",
    "                #Generate random coordinates\n",
    "                randCoords = [(random.randint(0, self.simSpace.size() - 1)) for i in range(3)]\n",
    "                self.simSpace.insertObj(obj, randCoords)"
   ]
  },
  {
   "cell_type": "markdown",
   "id": "ee8dcaaf",
   "metadata": {},
   "source": [
    "A inicialização da classe recebe os parâmetros: \"objList\" e \"size\". </p>\n",
    "\"objList\" é uma classe do tipo \"molList\", que contém os valores iniciais usados na simulação. </p>\n",
    "\"size\" define o tamanho do cubo da nossa simulação.\n",
    "\n",
    "Na inicialização, criámos 4 propriedades relativas à classe \"simulation\":\n",
    "\n",
    ">self.totalMolCount - Uma classe \"mollist\" que guarda o número atual de cada objeto dentro do cubo. </p>\n",
    "> </p>\n",
    ">self.totalMolRetrieved - Uma classe \"mollist\" que guarda a quantidade de cada objeto que foi extraída no total. </p>\n",
    "> </p>\n",
    ">self.totalMolConsumed - Uma classe \"mollist\" que guarda a quantidade de cada objeto que foi consumida no total. </p>\n",
    "> </p>\n",
    ">self.simSpoace - Uma classe \"cube\", que atua como reator.\n",
    "\n",
    "Depois de definir estas propriedades, inserimos uma quantidade inicial de cada objeto no cubo, gerando coordenadas aleatórias para cada objeto e inserindo-o nessa posição.\n",
    "\n",
    "### 2. Funções da classe\n",
    "\n",
    "**2.1** self.globalMoveEvent(moveMaxDistance):"
   ]
  },
  {
   "cell_type": "code",
   "execution_count": 17,
   "id": "73590c67",
   "metadata": {},
   "outputs": [],
   "source": [
    "def globalMoveEvent(self, moveMaxDistance):\n",
    "        \n",
    "        #Choose coordinates in cube where there are objects, run for every object within cell\n",
    "        for coords in self.simSpace.getCellsWithObj():\n",
    "            \n",
    "            for obj in self.simSpace.getObjListInCell(coords):\n",
    "            \n",
    "                #Generate movement vector\n",
    "                randVector = [random.randint(-moveMaxDistance, moveMaxDistance) for i in range(3)]\n",
    "                \n",
    "                #Move object to coordinates\n",
    "                self.simSpace.moveObj(obj, coords, randVector) "
   ]
  },
  {
   "cell_type": "markdown",
   "id": "614cc5bc",
   "metadata": {},
   "source": [
    "Esta função recebe um único argumento (moveMaxDistance), que define a quantidade máxima de células movida em cada eixo por um objeto, onde: \n",
    "\n",
    ">para moveMaxDistance = 2: </p>\n",
    "> </p>\n",
    ">-2 <= x <= 2, -2 <= y <= 2, -2<= z <= 2\n",
    "\n",
    "Esta função obtém uma lista de coordenadas onde há objetos e depois corre um ciclo do tipo _for_ para cada objeto dentro daquela célula.\n",
    "Sempre que o loop é corrido, um vetor aleatório é gerado, sendo o objeto movido com esse vetor.\n",
    "\n",
    "**2.2** self.reactionEvent():"
   ]
  },
  {
   "cell_type": "code",
   "execution_count": 18,
   "id": "07939f78",
   "metadata": {},
   "outputs": [],
   "source": [
    "def reactionEvent(self):\n",
    "        \n",
    "        #Choose coordinates in cube where there are objects\n",
    "        for coords in self.simSpace.getCellsWithObj():\n",
    "            \n",
    "            #Getting a list of every object in the cell\n",
    "            objList = self.simSpace.getObjListInCell(coords)\n",
    "\n",
    "            #Select reaction to perform\n",
    "            #Reaction 1: A + B -> C\n",
    "            while (objList.count(\"A\")) > 0 and (objList.count(\"B\")) > 0:\n",
    "                \n",
    "                #Do reaction\n",
    "                self.simSpace.removeObj(\"A\", coords)\n",
    "                self.simSpace.removeObj(\"B\", coords)\n",
    "                self.simSpace.insertObj(\"C\", coords)\n",
    "                \n",
    "            #Reaction 2 & 3: C + A -> 2A + B or C + B -> A + 2B\n",
    "            while (objList.count(\"C\")) > 0 and ((objList.count(\"A\")) > 0 or objList.count(\"B\") > 0):\n",
    "                \n",
    "                self.simSpace.removeObj(\"C\", coords)\n",
    "                self.simSpace.insertObj(\"A\", coords)\n",
    "                self.simSpace.insertObj(\"B\", coords)  \n",
    "                \n",
    "            #Reaction 4: 2C -> 2A + 2B\n",
    "            while (objList.count(\"C\")) > 1:\n",
    "                \n",
    "                for i in range(2):\n",
    "                    self.simSpace.removeObj(\"C\", coords)\n",
    "                    self.simSpace.insertObj(\"A\", coords)\n",
    "                    self.simSpace.insertObj(\"B\", coords)\n",
    "                    \n",
    "        #Update molecule lists\n",
    "        self.totalMolCount = self.simSpace.getObjectTotals()"
   ]
  },
  {
   "cell_type": "markdown",
   "id": "340d4faa",
   "metadata": {},
   "source": [
    "Esta função, tal como a anterior, obtém, primeiro, uma lista de coordenadas onde há objetos e depois corre um ciclo do tipo _for_ para cada objeto dentro daquela célula.\n",
    "Depois, corre um ciclo do tipo _while_ para cada reação, onde executa as reações, enquanto se verificarem as condições necessárias.\n",
    "As reações são as listadas abaixo:\n",
    "> </p>\n",
    ">A + B » C </p>\n",
    ">A + C » 2A + B </p>\n",
    ">B + C » A + 2B </p>\n",
    ">2C » 2A + 2B\n",
    "\n",
    "No fim, a função atualiza a quantidade de objetos dentro do cubo naquele instante.\n",
    "\n",
    "**2.3** self.insertEvent(obj, count):"
   ]
  },
  {
   "cell_type": "code",
   "execution_count": 19,
   "id": "dfd430c6",
   "metadata": {},
   "outputs": [],
   "source": [
    " def insertEvent(self, obj, count):\n",
    "        \n",
    "        self.totalMolCount.insert(obj, count)\n",
    "        self.totalMolConsumed.insert(obj, count)\n",
    "        \n",
    "        for i in range(count):\n",
    "            \n",
    "            #Generate random coordinates within 1/4 of the space\n",
    "            randCoords = [(random.randint(0, round((self.simSpace.size() - 1) / 4))) for i in range(3)]\n",
    "        \n",
    "            if obj == \"A\":\n",
    "    \n",
    "                randCoords[2] += round(((self.simSpace.size() - 1) * 3) / 4)\n",
    "                    \n",
    "            elif obj == \"B\":\n",
    "                \n",
    "                for x in range(3):\n",
    "                    \n",
    "                    randCoords[x] += round(((self.simSpace.size() - 1) * 3) / 4)\n",
    "                \n",
    "            self.simSpace.insertObj(obj, randCoords)"
   ]
  },
  {
   "cell_type": "markdown",
   "id": "a7ac3ac3",
   "metadata": {},
   "source": [
    "Esta função recebe dois argumentos: \"obj\" e \"count\".\n",
    "\"obj\" - é o objeto a inserir no reator;\n",
    "\"count\" - é a quantidade desse objeto;\n",
    "\n",
    "Primeiro, a função atualiza o número total de objetos no reator no instante e a quantidade total de objetos consumidos.\n",
    "E depois, essa quantia é inserida no cubo:\n",
    "Geramos coordenadas aleatórias dentro de 1/4 do tamanho do cubo, ajustando a posição dessa área na área correta; e, inserimos o objeto no cubo, nessas mesmas coordenadas.\n",
    "\n",
    "**2.4** self.removeEvent(obj, count):"
   ]
  },
  {
   "cell_type": "code",
   "execution_count": 20,
   "id": "45392472",
   "metadata": {},
   "outputs": [],
   "source": [
    "def removeEvent(self, obj):\n",
    "        \n",
    "        #Get list of coordinates within 0 <= x, y, z <= L/4 that contains object\n",
    "        for coords in [y for y in self.simSpace.getCellsWithObj() if ((y[0] <= round((self.simSpace.size() - 1) / 4)) and (y[1] <= round((self.simSpace.size() - 1) / 4)) and (y[2] <= round((self.simSpace.size() - 1) / 4))) and (self.simSpace.getObjListInCell(y).count(obj) > 0)]:\n",
    "            \n",
    "            for i in self.simSpace.getObjListInCell(coords):   \n",
    "            \n",
    "                if i == obj:\n",
    "                    \n",
    "                    #Remove object from coordinate and add 1 to totalMol for that obj\n",
    "                    self.simSpace.removeObj(obj, coords)\n",
    "                    self.totalMolRetrieved.insert(obj, 1)\n",
    "                    \n",
    "                    self.totalMolCount.remove(obj, 1)"
   ]
  },
  {
   "cell_type": "markdown",
   "id": "798bdf33",
   "metadata": {},
   "source": [
    "Esta função retira todos os objetos a remover (\"obj\") de uma área correspondente a 1/4 do tamanho do cubo em cada eixo, começando esta área nas coordenadas [0,0,0]:\n",
    "\n",
    "Regista todas as coordenadas naquele espaço, onde há objetos presentes, e, depois, remove todos os objetos \"obj\", atualizando a quantidade total de objetos e a quantidade total de objeto removido do cubo registadas."
   ]
  },
  {
   "cell_type": "markdown",
   "id": "dbc956d4",
   "metadata": {},
   "source": [
    "## Classe \"event\" e \"cap\" (Módulo \"cap\")\n",
    "\n",
    "A nossa simulação segue o modelo da simulação discreta estocástica , por isso precisámos de definir uma CAP, isto é, uma cadeia de acontecimentos pendentes.\n",
    "\n",
    "Como queríamos fazer tudo em classes (pois fica mais limpo visualmente e fácil de usar), decidimos reescrever os módulos fornecidos pelos docentes, usando classes e formando um único módulo.\n",
    "\n",
    "A classe \"event\" é um objeto com 2 propriedades: o tipo de evento (kind) e o instante do evento (time).\n",
    "\n",
    "### 1. Inicialização da classe \"event\" "
   ]
  },
  {
   "cell_type": "code",
   "execution_count": 21,
   "id": "b167f593",
   "metadata": {},
   "outputs": [],
   "source": [
    "class event:\n",
    "    \n",
    "    def __init__(self, t, k):\n",
    "        self.time = t\n",
    "        self.kind = k"
   ]
  },
  {
   "cell_type": "markdown",
   "id": "c3ce42b2",
   "metadata": {},
   "source": [
    "A inicialização da classe recebe dois argumentos: t (time) e k (kind). Estes são guardados no self.time e self.kind da classe.\n",
    "\n",
    "A outra classe é a classe da cap, que à semelhança da cap fornecida pelos docentes, guarda todos os eventos da classe \"event\".\n",
    "\n",
    "### 2. Inicialização da classe \"cap\""
   ]
  },
  {
   "cell_type": "code",
   "execution_count": 22,
   "id": "7f4340f4",
   "metadata": {},
   "outputs": [],
   "source": [
    "class cap:\n",
    "    \n",
    "    def __init__(self):\n",
    "        self.cap = []"
   ]
  },
  {
   "cell_type": "markdown",
   "id": "39e07dab",
   "metadata": {},
   "source": [
    "A inicialização da cap atribui simplesmente uma lista vazia à variável self.cap.\n",
    "\n",
    "### 3. Funções da classe \"cap\"\n",
    "\n",
    "**3.1** self.addEvent(e)"
   ]
  },
  {
   "cell_type": "code",
   "execution_count": 23,
   "id": "93034f56",
   "metadata": {},
   "outputs": [],
   "source": [
    "def addEvent(self, e):\n",
    "    self.cap = [e1 for e1 in self.cap if e1.time < e.time] + [e] + [e1 for e1 in self.cap if e1.time > e.time]"
   ]
  },
  {
   "cell_type": "markdown",
   "id": "b57d4a5a",
   "metadata": {},
   "source": [
    "A função \"addEvent\" recebe um único argumento, que vem na forma de classe \"event\". \n",
    "Adiciona o evento à CAP na posição correta, lendo os tempos de cada evento.\n",
    "\n",
    "**3.2** self.delCurrentEvent()"
   ]
  },
  {
   "cell_type": "code",
   "execution_count": 24,
   "id": "81a2d799",
   "metadata": {},
   "outputs": [],
   "source": [
    "def delCurrentEvent(self):\n",
    "    self.cap = self.cap[1:] if len(self.cap) > 0 else []"
   ]
  },
  {
   "cell_type": "markdown",
   "id": "c455929a",
   "metadata": {},
   "source": [
    "Esta função remove o evento que está a acontecer no instante atual da CAP. Se a CAP estiver vazia nada muda.\n",
    "\n",
    "**3.3** self.currentEvent()"
   ]
  },
  {
   "cell_type": "code",
   "execution_count": 25,
   "id": "f4514e21",
   "metadata": {},
   "outputs": [],
   "source": [
    "def currentEvent(self):\n",
    "    return self.cap[0]"
   ]
  },
  {
   "cell_type": "markdown",
   "id": "4a7de656",
   "metadata": {},
   "source": [
    "Esta função retorna o evento que está a acontecer no instante atual da CAP (o evento mais recente)."
   ]
  },
  {
   "cell_type": "markdown",
   "id": "575b7b3d",
   "metadata": {},
   "source": [
    "## Módulo simulation\n",
    "\n",
    "É aqui que todos os nossos módulos se irão finalmente juntar para correr a simulação. Este módulo final é constituído por 3 funções. A mais simples será explicada em primeiro lugar.\n",
    "\n",
    "### 1. randomxp(m)"
   ]
  },
  {
   "cell_type": "code",
   "execution_count": 26,
   "id": "9f7dea6c",
   "metadata": {},
   "outputs": [],
   "source": [
    "from random import random\n",
    "from math import e\n",
    "\n",
    "def randomxp(m):\n",
    "    t = random()\n",
    "    return 1 - e**( - t / m )"
   ]
  },
  {
   "cell_type": "markdown",
   "id": "ee796608",
   "metadata": {},
   "source": [
    "Esta função recebe um float, m, e devolve um número (pseudo-)aleatório de distribuição exponencial que será utilizado para os tempos dos eventos.\n",
    "\n",
    "Segue-se agora a função principal, simular(), que corre a simulação:\n",
    "\n",
    "\n",
    "### 2. simular( variáveis opcionais )"
   ]
  },
  {
   "cell_type": "code",
   "execution_count": 27,
   "id": "b4cf0eb1",
   "metadata": {},
   "outputs": [],
   "source": [
    "#These are in comments as to not create errors in jupyter notbook\n",
    "#import cap as cp\n",
    "#import mollist as ml\n",
    "#import events as ev\n",
    "\n",
    "def simular(L = 8 , Na = 120 , Nb = 110 , Nc = 30 , Ht = 200 , Tdg = 1, k = 2 , Tr = 3 , Ta = 0.1 , Ts = 1, Dark = True, GUI = False):\n",
    "    \n",
    "    if GUI == False:\n",
    "        \n",
    "        #Changing backend rendering to qt5 (Interactable graph!! yay!!)\n",
    "        from IPython import get_ipython\n",
    "        get_ipython().run_line_magic(\"matplotlib\",\"qt5\")\n",
    "    \n",
    "    #Creating a mollist with the starting counts\n",
    "    objList = ml.molList()\n",
    "    objList.insert(\"A\", Na)\n",
    "    objList.insert(\"B\", Nb)\n",
    "    objList.insert(\"C\", 0)\n",
    "    \n",
    "    #Initializing simulation space\n",
    "    simulation = ev.simulation(objList,L)\n",
    "    \n",
    "    #Initializing cap\n",
    "    cap = cp.cap()\n",
    "    \n",
    "    #Add first event\n",
    "    cap.addEvent(cp.event(0, \"Move\"))\n",
    "\n",
    "    #Initializing graph data\n",
    "    graphData = [[0] , [[Na] ,[Nb] ,[0]], [[Na] ,[Nb] ,[0]], [[0] ,[0] ,[0]]]\n",
    "    \n",
    "    \n",
    "    #Setting bool values\n",
    "    extracting = False\n",
    "    inserting = False\n",
    "    \n",
    "    while cap.currentEvent().time <= Ht:\n",
    "        \n",
    "        if cap.currentEvent().kind == \"Move\":\n",
    "            \n",
    "            simulation.globalMoveEvent(k)\n",
    "            cap.addEvent(cp.event(cap.currentEvent().time + randomxp(Tr), \"Reaction\"))\n",
    "            \n",
    "        elif cap.currentEvent().kind == \"Reaction\":\n",
    "            \n",
    "            simulation.reactionEvent()\n",
    "            cap.addEvent(cp.event(cap.currentEvent().time + randomxp(Tdg), \"Move\"))\n",
    "            \n",
    "        elif cap.currentEvent().kind == \"Extraction\":\n",
    "            \n",
    "            simulation.removeEvent('C')\n",
    "            extracting = False\n",
    "            \n",
    "        elif cap.currentEvent().kind == \"Insertion\":\n",
    "            \n",
    "            simulation.insertEvent('A', round(Na/2))\n",
    "            simulation.insertEvent('B', round(Nb/2)) \n",
    "            inserting = False\n",
    "            \n",
    "        if not extracting and simulation.totalMolCount.getCount('C') > Nc: \n",
    "            \n",
    "            cap.addEvent(cp.event(cap.currentEvent().time + randomxp(Ts), \"Extraction\")) \n",
    "            extracting = True\n",
    "            \n",
    "        if not inserting and simulation.totalMolCount.getCount('A') < (Na / 2) and simulation.totalMolCount.getCount('B') < (Nb / 2):\n",
    "        \n",
    "            cap.addEvent(cp.event(cap.currentEvent().time + randomxp(Ts), \"Insertion\")) \n",
    "            inserting = True  \n",
    "                \n",
    "        cap.delCurrentEvent()\n",
    "\n",
    "        #Graph x axis\n",
    "        graphData[0].append(cap.currentEvent().time)\n",
    "        \n",
    "        #Graph y axis for current count in reactor\n",
    "        graphData[1][0].append(simulation.totalMolCount.getCount('A'))\n",
    "        graphData[1][1].append(simulation.totalMolCount.getCount('B'))\n",
    "        graphData[1][2].append(simulation.totalMolCount.getCount('C'))\n",
    "        \n",
    "        #Graph y axis for total count inserted\n",
    "        graphData[2][0].append(simulation.totalMolConsumed.getCount('A'))\n",
    "        graphData[2][1].append(simulation.totalMolConsumed.getCount('B'))\n",
    "        graphData[2][2].append(simulation.totalMolConsumed.getCount('C'))\n",
    "        \n",
    "        #Graph y axis for total count extracted\n",
    "        graphData[3][0].append(simulation.totalMolRetrieved.getCount('A'))\n",
    "        graphData[3][1].append(simulation.totalMolRetrieved.getCount('B'))\n",
    "        graphData[3][2].append(simulation.totalMolRetrieved.getCount('C'))\n",
    "        \n",
    "    #Print outputs\n",
    "    if GUI == True:\n",
    "        \n",
    "        return graphData,[str(graphData[2][0][-1]), str(graphData[2][1][-1]), str(graphData[3][2][-1])]\n",
    "    \n",
    "    else:\n",
    "        \n",
    "        print(\"A Consumido: \" + str(graphData[2][0][-1])) \n",
    "        print(\"B Consumido: \" + str(graphData[2][1][-1]))    \n",
    "        print(\"C Obtido: \" + str(graphData[3][2][-1]))\n",
    "        \n",
    "        printGraph(graphData, Dark)"
   ]
  },
  {
   "cell_type": "markdown",
   "id": "8aec29cb",
   "metadata": {},
   "source": [
    "#### Variáveis da simulação\n",
    "\n",
    "A função simular recebe as seguintes variáveis: L, Na, Nb, Nc, Ht, Tdg, Tr, Ta, Ts, k, Dark\n",
    "\n",
    ">Em que: </p>\n",
    "> </p>\n",
    ">L – Define a aresta do cubo (nº de células que a definem); </p>\n",
    ">Na – Número inicial de A; </p>\n",
    ">Nb – Número inicial de B; </p>\n",
    ">Nc – Valor limite a partir do qual C começa a ser extraído do reator; </p>\n",
    ">Ht – Tempo máximo de simulação; </p>\n",
    ">Tgd – Tempo médio de deslocamento, variável com o propósito de calcular o tempo para os eventos de movimento; </p>\n",
    ">Tr – Tempo médio de reação, variável com o objetivo de calcular o tempo para os eventos de reação; </p>\n",
    ">Ta – Tempo médio de adição, variável com o intuito de calcular o tempo para os eventos de inserção; </p>\n",
    ">Ts – Tempo médio de saída, variável com a finalidade de calcular o tempo para os eventos de remoção; </p>\n",
    ">k – Número máximo de células que um objeto se pode deslocar por eixo (moveMaxDistance na classe simulation); </p>\n",
    ">Dark – Variável puramente decorativa, quando True, o gráfico devolvido estará em “dark mode”, quando False, o gráfico devolvido estará em “light mode”. </p>\n",
    ">GUI - definida inicialmente como False, este argumnto é usado para o módulo GUI (modulo extra) e o seu valor é apenas mudado para True quando a função é chamada pelo módulo. Definindo-a True ao usar o simular() diretamente da consola levará a problemas. </p>\n",
    "\n",
    "#### Inicialização da simulação\n",
    "\n",
    "Primeiro, criamos uma molList onde guardamos as quantidades iniciais de cada substância, que usaremos para inicializar a simulação, juntamente com o tamanho do cubo.\n",
    "\n",
    "De seguida, iniciamos a CAP e escolhemos “Move” como primeiro evento. Seguidamente inicializamos a lista graphData, que guarda toda a informação relativa ao gráfico devolvido no final.\n",
    "\n",
    "A inicialização da CAP termina assim que definirmos os valores booleanos que usaremos no ciclo principal.\n",
    "\n",
    "Se o GUI estiver a ser utilizado, a função simular() irá definir GUI como True, que vai saltar o comando matplotlib graphics backend (explicado mais à frente).\n",
    "\n",
    "#### Ciclo principal\n",
    "\n",
    "O nosso ciclo irá decorrer até que o tempo total supere o tempo máximo de simulação.\n",
    "\n",
    "É aqui que iremos adicionar eventos à CAP tendo por base o evento anterior e as condições no reator.\n",
    "\n",
    ">Eventos: </p>\n",
    "> </p>\n",
    ">\"Move\" – Este evento desencadeia um globalMoveEvent na classe simulation e irá adicionar um evento de reação, “Reaction”, à CAP, com um tempo de (tempo atual + randomxp(Tr)); </p>\n",
    ">\"Reaction\" – Este evento desencadeia um reactionEvent na classe simulation e adiciona um evento “Move” à CAP, com um tempo de (tempo atual + randomxp(Tdg)); </p>\n",
    ">\"Extraction\" – Este evento desencadeia a extração da substância C do sistema e torna a variável extracting False; </p>\n",
    ">\"Insertion\" – Este evento desencadeia a inserção das substâncias A e B (em quantidades Na/2 e Nb/2, respetivamente) no sistema e torna a variável inserting False. </p>\n",
    "\n",
    "Se a variável extracting corresponder a False e a quantidade de C presente no reator for superior à quantidade limite, Nc, um evento “Extraction” será adicionado à CAP com um tempo de (tempo atual + randomxp(Ts)), tornando-se, de seguida, True a variável extracting.\n",
    "Analogamente, se  inserting for False e as quantidades de A e B forem inferiores a metade da sua quantidade inicial, será adicionado à CAP um evento “Inserting” com um tempo de (tempo atual + randomxp(Ta)). A variável inserting também se tornará True.\n",
    "\n",
    "No final de cada manipulação de eventos, o evento atual é removido da CAP.\n",
    "\n",
    "Finalmente, a lista graphData é atualizada com os novos dados.\n",
    "\n",
    "#### Finalizar a simulação\n",
    "\n",
    "No final da simulação damos print às quantidades de A e B consumidas, assim como à quantidade de C extraída do reator.\n",
    "\n",
    "Um gráfico é depois devolvido através da função printGraph se GUI for False, caso seja True, os dados serão movidos para o módulo GUI onde se vai dar o seu print (tanto o GUI como simular() usam a função printGraph):\n",
    "\n",
    "### 3. printGraph(graphData, Dark):"
   ]
  },
  {
   "cell_type": "code",
   "execution_count": 28,
   "id": "8989b3e8",
   "metadata": {},
   "outputs": [],
   "source": [
    "from IPython import get_ipython\n",
    "get_ipython().run_line_magic(\"matplotlib\",\"qt5\")\n",
    "\n",
    "import matplotlib.pyplot as plt\n",
    "\n",
    "def printGraph (graphData, Dark):\n",
    "     \n",
    "    #Tracing graph data\n",
    "    maxTrace = 0\n",
    "    \n",
    "    for i1 in range(3):\n",
    "        for i2 in range(3):\n",
    "            \n",
    "            if max(graphData[i1 + 1][i2]) > maxTrace:\n",
    "                maxTrace = max(graphData[i1 + 1][i2])\n",
    "        \n",
    "    #Plot cosmetics\n",
    "    if Dark:\n",
    "        \n",
    "        primaryColor = \"#434C5E\"\n",
    "        secondaryColor = \"#282D38\"\n",
    "        textColor = \"white\"\n",
    "        \n",
    "    else:\n",
    "        \n",
    "        primaryColor = \"white\"\n",
    "        secondaryColor = \"white\"\n",
    "        textColor = \"black\"\n",
    "    \n",
    "    #Set colors\n",
    "    fig, ax = plt.subplots()\n",
    "    fig.set_facecolor(primaryColor)\n",
    "    fig.gca().set_facecolor(secondaryColor)\n",
    "    ax.tick_params(colors = textColor)\n",
    "    ax.tick_params(axis = 'x', colors = textColor)\n",
    "    ax.tick_params(axis = 'y', colors = textColor)\n",
    "    \n",
    "    ax.grid(color = \"#434C5E\")\n",
    "    \n",
    "    ax.set_xlabel(\"Tempo\", color = textColor)\n",
    "    ax.set_ylabel(\"Quantidade de moléculas\", color = textColor)\n",
    "\n",
    "    #Plot Data\n",
    "    ax.axis([0, max(graphData[0]), 0, maxTrace + 10])\n",
    "    \n",
    "    currentA, = ax.plot(graphData[0], graphData[1][0], color = \"#efb48f\", linestyle = \"-\", label = \"A no reator\", linewidth = 1)\n",
    "    currentB, = ax.plot(graphData[0], graphData[1][1], color = \"#94dceb\", linestyle = \"-\", label = \"B no reator\", linewidth = 1)\n",
    "    currentC, = ax.plot(graphData[0], graphData[1][2], color = \"#cd79c8\", linestyle = \"-\", label = \"C no reator\", linewidth = 1)\n",
    "    \n",
    "    totalA, = ax.plot(graphData[0], graphData[2][0], color = \"#ff6e14\", linestyle = \"-\", label = \"A total gasto\", linewidth = 1)\n",
    "    totalB, = ax.plot(graphData[0], graphData[2][1], color = \"#00c8f0\", linestyle = \"-\", label = \"B total gasto\", linewidth = 1)\n",
    "    totalC, = ax.plot(graphData[0], graphData[3][2], color = \"#ff29f1\", linestyle = \"-\", label = \"C total extraido\", linewidth = 1)\n",
    "    \n",
    "    #Initialize legend\n",
    "    leg = plt.legend(loc = 2, facecolor = primaryColor)\n",
    "    leg.get_frame().set_color(primaryColor)\n",
    "    \n",
    "    for text in leg.get_texts():\n",
    "        \n",
    "        text.set_color(textColor)\n",
    "        \n",
    "    ##Build interactable graph\n",
    "    legLines = leg.get_lines()\n",
    "    \n",
    "    for legLine in legLines:\n",
    "        \n",
    "        legLine.set_picker(True)\n",
    "        legLine.set_pickradius(10)\n",
    "        \n",
    "    graphDictionary = {\n",
    "        0 : currentA,\n",
    "        1 : currentB,\n",
    "        2 : currentC,\n",
    "        3 : totalA,\n",
    "        4 : totalB,\n",
    "        5 : totalC\n",
    "        }\n",
    "    \n",
    "    #Handles the event for clicking on the labels\n",
    "    def onClickEventHandler(event):\n",
    "        \n",
    "        clicked = event.artist\n",
    "        visibility = clicked.get_visible()\n",
    "        \n",
    "        clicked.set_visible(not visibility)\n",
    "        graphDictionary[legLines.index(clicked)].set_visible(not visibility)\n",
    "        \n",
    "        plt.draw()\n",
    "        \n",
    "    #Link labels to click event\n",
    "    fig.canvas.mpl_connect('pick_event', onClickEventHandler)\n",
    "    \n",
    "    plt.show()"
   ]
  },
  {
   "cell_type": "markdown",
   "id": "fac5fc69",
   "metadata": {},
   "source": [
    "Para o nosso gráfico optámos por um caminho ligeiramente diferente àquele pedido no enunciado. Em vez das 3 linhas pedidas (quantidades de A, B e C no reator) decidimos adicionar outras 3 que dão os valores de A e B consumidos e a quantidade de C extraída.\n",
    "\n",
    "A função printGraph recebe 2 variáveis, a graphData e a variável opcional, Dark, que é puramente decorativa.\n",
    "\n",
    "Para começar temos de definir um máximo para os eixos do gráfico, que será guardado na variável maxTrace, a partir da linha que atinge o valor mais elevado.\n",
    "\n",
    "De seguida é verificada a variável Dark, de modo a serem definidas as cores do gráfico. Se Dark for True, o gráfico será apresentado em “dark mode”. Caso contrário, será apresentado em “light mode”.\n",
    "\n",
    "Seguidamente são “construídas” as linhas do gráfico a partir dos dados recolhidos, é criada uma legenda para esses mesmos dados e, finalmente, é começada a construção do gráfico.\n",
    "\n",
    "Além das diferenças referidas acima, o gráfico é interativo, podendo ser ocultados quaisquer dados (e consequentemente as linhas correspondentes), bastando carregar nas linhas da legenda para tal, com o propósito de facilitar a leitura e análise. \n",
    "Isto é feito ativando a opção de seleção do matplotlib nos botões da legenda e ligando os cliques do rato a um manipulador de eventos que ativa e desativa a visibilidade tanto do botão da legenda como da linha correspondente.\n",
    "\n",
    "_NOTA: A interatividade do gráfico é possível apenas devido ao uso do matplotlib qt5 graphics backend no Spyder, que à partida será ativado pelo módulo da simulação. Caso, por algum motivo, o gráfico seja devolvido na “plot area” do Spyder deve introduzir-se “%matplotlib qt5” na consola para que possa haver interação com o gráfico. Este método é permanente, pelo que, de modo a que o gráfico volte a ser devolvido sob a forma de um print será necessário introduzir na consola “%matplotlib inline.\"_"
   ]
  },
  {
   "cell_type": "markdown",
   "id": "36e84033",
   "metadata": {},
   "source": [
    "## Módulos extra (módulo GUI e Run.pyw) e Setup batch file\n",
    "\n",
    "Como cereja no topo do bolo decidimos embelezar o projeto adicionando um módulo GUI que permite correr a simulação através de uma interface personalizada que torna mais fácil todo o processo de introduzir as variáveis da simulação.\n",
    "\n",
    "Para usar o GUI é necessário correr o ficheiro batch ,Setup, que irá correr alguns comandos na linha de comandos do Windows:\n",
    "\n",
    "### 1. Setup.bat"
   ]
  },
  {
   "cell_type": "raw",
   "id": "a502875e",
   "metadata": {},
   "source": [
    "py -m pip install matplotlib\n",
    "pause"
   ]
  },
  {
   "cell_type": "markdown",
   "id": "eb5f9ede",
   "metadata": {},
   "source": [
    "O primeiro comando usará o Python, para correr o script pip que se encontra no seu diretório. Este script permite instalar módulos a partir da biblioteca online do Python, a partir da qual instalamos o matplotlib. O Python não vem com o matplotlib por predefinição, pelo que temos de o instalar.\n",
    "\n",
    "O segundo comando irá apenas pausar a linha de comandos para que seja possível verificar se a instalação foi bem-sucedida.\n",
    "\n",
    "Após o setup pode correr-se o ficheiro Run.pyw para iniciar o GUI.\n",
    "\n",
    "### 2. Run.pyw"
   ]
  },
  {
   "cell_type": "code",
   "execution_count": 29,
   "id": "044c7825",
   "metadata": {},
   "outputs": [
    {
     "ename": "NameError",
     "evalue": "name '__file__' is not defined",
     "output_type": "error",
     "traceback": [
      "\u001b[1;31m---------------------------------------------------------------------------\u001b[0m",
      "\u001b[1;31mNameError\u001b[0m                                 Traceback (most recent call last)",
      "\u001b[1;32m~\\AppData\\Local\\Temp/ipykernel_16996/1383137219.py\u001b[0m in \u001b[0;36m<module>\u001b[1;34m\u001b[0m\n\u001b[0;32m      1\u001b[0m \u001b[1;32mimport\u001b[0m \u001b[0mos\u001b[0m\u001b[1;33m,\u001b[0m \u001b[0msys\u001b[0m\u001b[1;33m\u001b[0m\u001b[1;33m\u001b[0m\u001b[0m\n\u001b[1;32m----> 2\u001b[1;33m \u001b[0msys\u001b[0m\u001b[1;33m.\u001b[0m\u001b[0mpath\u001b[0m\u001b[1;33m.\u001b[0m\u001b[0mappend\u001b[0m\u001b[1;33m(\u001b[0m\u001b[0mos\u001b[0m\u001b[1;33m.\u001b[0m\u001b[0mpath\u001b[0m\u001b[1;33m.\u001b[0m\u001b[0mjoin\u001b[0m\u001b[1;33m(\u001b[0m\u001b[0mos\u001b[0m\u001b[1;33m.\u001b[0m\u001b[0mpath\u001b[0m\u001b[1;33m.\u001b[0m\u001b[0mdirname\u001b[0m\u001b[1;33m(\u001b[0m\u001b[0m__file__\u001b[0m\u001b[1;33m)\u001b[0m\u001b[1;33m,\u001b[0m \u001b[1;34m\"modules\"\u001b[0m\u001b[1;33m)\u001b[0m\u001b[1;33m)\u001b[0m\u001b[1;33m\u001b[0m\u001b[1;33m\u001b[0m\u001b[0m\n\u001b[0m\u001b[0;32m      3\u001b[0m \u001b[1;32mimport\u001b[0m \u001b[0mGUI\u001b[0m\u001b[1;33m\u001b[0m\u001b[1;33m\u001b[0m\u001b[0m\n",
      "\u001b[1;31mNameError\u001b[0m: name '__file__' is not defined"
     ]
    }
   ],
   "source": [
    "import os, sys\n",
    "sys.path.append(os.path.join(os.path.dirname(__file__), \"modules\"))\n",
    "import GUI"
   ]
  },
  {
   "cell_type": "markdown",
   "id": "cdeb8e29",
   "metadata": {},
   "source": [
    "O ficheiro Run.pyw importa os módulos _sys_ e _os_, que nos permite obter o path que leva à pasta dos módulos, a partir da qual se pode importar o módulo GUI.\n",
    "\n",
    "É usado um ficheiro .pyw em vez de um .py visto que o primeiro corre o código sem ativar a linha de comandos, dando certa fluidez visual ao processo.\n",
    "\n",
    "### 3. Módulo GUI\n",
    "\n",
    "Este módulo está separado em 2 classes, inputBox e GUI. A inputBox é uma classe complementar à GUI.\n",
    "\n",
    "Por ser a classe mais simples, começaremos por explicar a inputBox:\n",
    "\n",
    "#### Inicialização e funções da inputBox"
   ]
  },
  {
   "cell_type": "code",
   "execution_count": null,
   "id": "00740ff1",
   "metadata": {},
   "outputs": [],
   "source": [
    "class inputBox:\n",
    "    \n",
    "    def __init__(self, parentFrame, _text, _row, _column):\n",
    "        \n",
    "        self.text = ttk.Label(parentFrame, text = _text, justify = \"center\")\n",
    "        self.spinbox = ttk.Spinbox(parentFrame, from_ = 0, to = 9999, width = 12)\n",
    "        self.spinbox.set(1)\n",
    "        \n",
    "        self.text.grid(row = _row, column = _column, padx = 5, pady = 5 if _row > 1 else (20, 5))\n",
    "        self.spinbox.grid(row = _row + 1, column = _column, padx = 5, pady = 5)\n",
    "\n",
    "    def getInt(self):\n",
    "        \n",
    "        return int(self.spinbox.get())\n",
    "    \n",
    "    def getFloat(self):\n",
    "        \n",
    "        return float(self.spinbox.get())"
   ]
  },
  {
   "cell_type": "markdown",
   "id": "35a266d4",
   "metadata": {},
   "source": [
    "A inicialização da classe recebe 4 variáveis: parentFrame, _text, _row, _column.\n",
    "\n",
    "A variável parentFrame é usada para que possamos atribuir um mestre aos botões e legendas do tkinter, _text é usada para definir o texto mostrado na legenda e as variáveis _row e _column são usadas para definir a posição dos widgets dentro da parentFrame.\n",
    "\n",
    "A função getInt devolve o valor da spinbox da inputBox sob a forma de um inteiro. A função getFloat faz o mesmo, mas devolve um float em vez de um inteiro.\n",
    "\n",
    "Cada caixa de input consiste numa spinbox e em texto onde são inseridos os valores pretendidos. Isto facilita a criação de diversos inputs para o GUI.\n",
    "\n",
    "#### 4 GUI initialization"
   ]
  },
  {
   "cell_type": "code",
   "execution_count": null,
   "id": "82212778",
   "metadata": {},
   "outputs": [],
   "source": [
    "from tkinter import ttk\n",
    "        \n",
    "class GUI:\n",
    "    \n",
    "    #Initializing GUI\n",
    "    def __init__(self):\n",
    "        \n",
    "        self.themelessMode = False\n",
    "        self.rootInit()\n",
    "\n",
    "        #Finish initializing GUI\n",
    "        self.root.title(\"Simulador\")\n",
    "        self.root.geometry(\"410x400\")\n",
    "        self.root.eval('tk::PlaceWindow . center')\n",
    "        self.root.resizable(width=False, height=False)\n",
    "        \n",
    "        #Create GUI interior frame\n",
    "        self.frame = ttk.Frame(self.root)\n",
    "        self.frame.pack(fill = \"both\", expand = 1)\n",
    "        \n",
    "        #Setting themes!\n",
    "        if self.themelessMode == False:\n",
    "            self.style = ttk.Style()\n",
    "            self.themeVar = ttk.tkinter.BooleanVar()\n",
    "        \n",
    "        #Create all buttons\n",
    "        self.buildUI()\n",
    "        \n",
    "        #Warn user of one drive boogie man if directory is contained in one drive\n",
    "        if self.themelessMode == False:\n",
    "            \n",
    "            self.switchThemes()\n",
    "              \n",
    "        else:\n",
    "            \n",
    "            ttk.tkinter.messagebox.showwarning(title = \"One drive detetado\", message = \"Está a correr o simulador numa pasta localizada numa diretiva conectada ao One Drive. Isto cria erros com o tcl e, consequentemente, com o carregamento dos pacotes de temas. Se quiser um menu mais bonito, retire a pasta do simulador desta diretiva e ponha-a noutra diretiva não associada ao One Drive. Obrigado.\")\n",
    "        \n",
    "        #Run app\n",
    "        self.root.mainloop()\n",
    "        self.root.update()"
   ]
  },
  {
   "cell_type": "markdown",
   "id": "020543ea",
   "metadata": {},
   "source": [
    "Primeiro, inicializa-se a tkinter root (explicada adiante). Seguidamente, cria-se uma nova janela do tkinter e constrói-se o frame, inicializa-se as bases utilizadas para defenir os temas (é criada uma variável booleana para as opções de “dark/light mode”) e usa-se a função buildUI (explicada adiante) para “construir” determinados botões na interface do tkinter.\n",
    "\n",
    "Adicionalmente, há um modo que salta toda a inicialização do tema. Este foi adicionado depois de termos encontrado erros com o tcl quando os módulos da simulação se encontram numa diretória One Drive. Se o One Drive é detetado (um erro acontece ao carregar os pacotes com o tcl), aparece uma mensagem de erro avisando o utilizador.\n",
    "\n",
    "Por fim, atualiza-se o tema da janela e corre-se o ciclo principal do tkinter.\n",
    "\n",
    "#### 5 Funções da classe GUI\n",
    "\n",
    "**5.1** rootInit(self)"
   ]
  },
  {
   "cell_type": "code",
   "execution_count": null,
   "id": "27c2038a",
   "metadata": {},
   "outputs": [],
   "source": [
    "import os\n",
    "from pathlib import PureWindowsPath\n",
    "\n",
    "def rootInit(self):\n",
    "\n",
    "    #Initializing Tkinter\n",
    "    self.root = ttk.tkinter.Tk()\n",
    "\n",
    "    #Try importing, if it errors, launch with no theme\n",
    "    try:\n",
    "\n",
    "        #Importing theme .tcl files using tcl evaluation\n",
    "        #Getting windows path\n",
    "        path = PureWindowsPath(os.path.join(os.path.dirname(os.path.dirname(__file__)), \"themes\"))\n",
    "\n",
    "        #Converting \\ to /\n",
    "        pathString = path.as_posix()\n",
    "        print(pathString)\n",
    "\n",
    "        #Ready packages\n",
    "        self.root.tk.eval(\"\"\"\n",
    "                          set theme_directory %s\n",
    "\n",
    "                     package ifneeded breeze 0.6 \\\n",
    "                         [list source [file join $theme_directory breeze/breeze.tcl]]\n",
    "                     package ifneeded breeze-dark 0.1 \\\n",
    "                         [list source [file join $theme_directory breeze-dark/breeze-dark.tcl]]\n",
    "                             \"\"\" % pathString)\n",
    "\n",
    "        #Import packages\n",
    "        self.root.tk.call(\"package\", \"require\", \"breeze\")\n",
    "        self.root.tk.call(\"package\", \"require\", \"breeze-dark\")\n",
    "\n",
    "    except:\n",
    "\n",
    "        self.themelessMode = True"
   ]
  },
  {
   "cell_type": "markdown",
   "id": "f670a0e8",
   "metadata": {},
   "source": [
    "É importado o módulo _os_ de modo a trabalhar com os paths dos ficheiros. Além disso, é importado o PureWindowsPath do pathlib (que vem com o Python 3) para podermos facilmente manipular paths.\n",
    "\n",
    "Aqui, é inicializado o tkinter na variável self.root da classe GUI. Depois, é obtido o path que leva à pasta contendo os temas e é usado o comando .as_posix() para alterar o tipo de barras (\\ para /) do path e convertê-lo num string, de modo a que seja possível definir o path para os temas em tcl.\n",
    "\n",
    "Depois do path ter sido processado, define-se o diretório do path e carregam-se os temas. Esta parte foi das mais complicadas, visto que envolveu aprender um pouco de tcl e também como relacionar esta linguagem a Python.\n",
    "\n",
    "Finalmente, deixa-se que o tkinter carregue os temas (O tkinter baseia-se em tcl).\n",
    "\n",
    "Se o tcl falhar ao correr, o GUI muda para um modo sem tema, evitando o carregamento do tcl. Provavelmente, este erro deve-se ao One Drive, a não ser que os ficheiros tenham sido modificados.\n",
    "\n",
    "**5.2** buildUI(self)"
   ]
  },
  {
   "cell_type": "code",
   "execution_count": null,
   "id": "9b4890a9",
   "metadata": {},
   "outputs": [],
   "source": [
    "def buildUI(self):\n",
    "        \n",
    "        #Creates all the buttons for the GUI\n",
    "        self.widgets = []\n",
    "        \n",
    "        Texts = {\n",
    "            0 : \"(Na) Quantidade \\n de A inicial\",\n",
    "            1 : \"(Nb) Quantidade \\n de B inicial\",\n",
    "            2 : \"(Nc) Limiar de \\n remoção de C\",\n",
    "            3 : \"(Ht) Tempo de \\n simulação\",\n",
    "            4 : \"(Tdg) Modificador do \\n tempo entre deslocamentos\",\n",
    "            5 : \"(Tr) Modificador do \\n tempo entre reações\",\n",
    "            6 : \"(Ta) Modificador do \\n tempo entre adições\",\n",
    "            7 : \"(Ts) Modificador do \\n tempo entre extrações\",\n",
    "            8 : \"(k) Limite de \\n deslocamento\",\n",
    "            9 : \"(L) Tamanho \\n do reator\"\n",
    "            }\n",
    "\n",
    "        for i in range(10):\n",
    "            \n",
    "            self.widgets.append(inputBox(self.frame, Texts[i], (i // 3) * 2, i % 3 if i < 9 else 1))\n",
    "        \n",
    "        #Tcl error \"fix\"\n",
    "        if self.themelessMode == False:\n",
    "            \n",
    "            self.widgets.append(ttk.Radiobutton(self.frame, text = \"Dark theme\", variable = self.themeVar, value = True, command = self.switchThemes))\n",
    "            self.widgets.append(ttk.Radiobutton(self.frame, text = \"Light theme\", variable = self.themeVar, value = False, command = self.switchThemes))\n",
    "            \n",
    "        self.widgets.append(ttk.Button(self.frame, text = \"Simular\", width = 12, command = self.simulateHandlerEvent))\n",
    "\n",
    "        for i in range(3 if self.themelessMode == False else 1):\n",
    "            \n",
    "            self.widgets[10 + i].grid(column = i + (0 if self.themelessMode == False else 1), row = 9, padx = 5, pady = 10)"
   ]
  },
  {
   "cell_type": "markdown",
   "id": "1c255a8c",
   "metadata": {},
   "source": [
    "Aqui é apenas criada uma lista sob a variável da classe, self.widgets e são carregadas e adicionadas à lista as classes inputBox e widgets. Os últimos 3 botões estão ligados às funções switchThemes e simulateHandlerEvent (explicadas adiante).\n",
    "\n",
    "Se o modo sem tema está ativo, os botões \"Dark mode\"/\"ligth mode\" não serão criados\n",
    "\n",
    "**5.3** switchThemes(self)"
   ]
  },
  {
   "cell_type": "code",
   "execution_count": null,
   "id": "8a99d4ca",
   "metadata": {},
   "outputs": [],
   "source": [
    "def switchThemes(self):\n",
    "        \n",
    "        #This switches the theme based on the bool value defined on the radio buttons\n",
    "        Themes = {\n",
    "            True : \"breeze-dark\",\n",
    "            False : \"breeze\"\n",
    "            }\n",
    "        \n",
    "        self.style.theme_use(Themes[self.themeVar.get()])"
   ]
  },
  {
   "cell_type": "markdown",
   "id": "6d1ac237",
   "metadata": {},
   "source": [
    "Esta função cria um dicionário que depois é usado para converter os botões de seleção num input de mudança de tema no tkinter. Como os botões estão ligados à função, o tema é atualizado sempre que uma variável booleana é alterada por um clique num botão que não esteja selecionado.\n",
    "\n",
    "**5.4** simulateHandlerEvent(self)"
   ]
  },
  {
   "cell_type": "code",
   "execution_count": null,
   "id": "92a0d60d",
   "metadata": {},
   "outputs": [],
   "source": [
    "import simulation\n",
    "\n",
    "def simulateHandlerEvent(self):\n",
    "        \n",
    "        #Handle simulation start\n",
    "        try:\n",
    "            \n",
    "            graphData,Data = simulation.simular(\n",
    "                Na = self.widgets[0].getInt(), Nb = self.widgets[1].getInt(), Nc = self.widgets[2].getInt(), Ht = self.widgets[3].getInt(),\n",
    "                Tdg = self.widgets[4].getFloat(), Tr = self.widgets[5].getFloat(), Ta = self.widgets[6].getFloat(), Ts = self.widgets[7].getFloat(),\n",
    "                k = self.widgets[8].getInt(), GUI = True)\n",
    "            \n",
    "        #If simulation fails\n",
    "        except:\n",
    "            \n",
    "            ttk.tkinter.messagebox.showerror(title = \"Erro de simulador\", message = \"Um ou mais inputs levam a um crash do simulador, verifique inputs.\")\n",
    "            self.root.update()\n",
    "            \n",
    "        else:\n",
    "            \n",
    "            InfoBox = ttk.tkinter.Toplevel()\n",
    "            InfoBox.title(\"Resultados\")\n",
    "            InfoBox.geometry(\"250x120\")\n",
    "            \n",
    "            frame = ttk.Frame(InfoBox)\n",
    "            frame.pack(side = \"top\", fill = \"both\", expand = 1)\n",
    "            \n",
    "            infoTexts = []\n",
    "            \n",
    "            infoTexts.append(ttk.Label(frame, text = \"A Consumido: \" + str(Data[0])))\n",
    "            infoTexts.append(ttk.Label(frame, text = \"B Consumido: \" + str(Data[1])))\n",
    "            infoTexts.append(ttk.Label(frame, text = \"C Extraido: \" + str(Data[2])))\n",
    "            \n",
    "            for text in infoTexts:\n",
    "                \n",
    "                text.pack(side = \"top\", padx = 5, pady = 10)\n",
    "            \n",
    "            simulation.printGraph(graphData, Dark = self.themeVar.get() if self.themelessMode == False else False)"
   ]
  },
  {
   "cell_type": "markdown",
   "id": "ea692293",
   "metadata": {},
   "source": [
    "É aqui que o GUI será ligado ao simulador. Ao carregar no botão “simulate”, este manipulador de eventos é ativo.\n",
    "\n",
    "Primeiro, testa-se a simulação, sendo usada a variável GUI para correr a simulação neste modo, podendo abdicar-se dos prints do gráfico e do texto pretendido, sendo os dados diretamente devolvidos por esta função, para poderem ser manipulados nesta camada.\n",
    "\n",
    "Se ocorrer algum erro na simulação irá surgir uma janela que avisa o utilizador em como certos parâmetros poderão estar a impedir o bom funcionamento desta. Isto também ajuda na prevenção de erros em que a janela se mantenha aberta, mas as funções deixem de funcionar.\n",
    "\n",
    "Caso a simulação seja bem-sucedida, serão abertas duas janelas, uma contendo a informação pretendida sob a forma de texto e a outra contendo o gráfico. Este gráfico é o mesmo que é usado no simulador base."
   ]
  },
  {
   "cell_type": "markdown",
   "id": "c44eff7a",
   "metadata": {},
   "source": [
    "## Conclusão\n",
    "\n",
    "Com este projeto foi-nos possível aplicar os conhecimentos adquiridos em aula, aprender mais sobre o Python e desenvolver a nossa autonomia no âmbito da programação e o trabalho em grupo."
   ]
  },
  {
   "cell_type": "code",
   "execution_count": null,
   "id": "eee8c2b0",
   "metadata": {},
   "outputs": [],
   "source": []
  }
 ],
 "metadata": {
  "kernelspec": {
   "display_name": "Python 3 (ipykernel)",
   "language": "python",
   "name": "python3"
  },
  "language_info": {
   "codemirror_mode": {
    "name": "ipython",
    "version": 3
   },
   "file_extension": ".py",
   "mimetype": "text/x-python",
   "name": "python",
   "nbconvert_exporter": "python",
   "pygments_lexer": "ipython3",
   "version": "3.9.7"
  }
 },
 "nbformat": 4,
 "nbformat_minor": 5
}
